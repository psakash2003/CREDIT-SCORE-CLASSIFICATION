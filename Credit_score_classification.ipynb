{
  "cells": [
    {
      "cell_type": "markdown",
      "metadata": {
        "id": "view-in-github",
        "colab_type": "text"
      },
      "source": [
        "<a href=\"https://colab.research.google.com/github/deepaksaipendyala/Credit-Score-Classification/blob/main/Credit_score_classification.ipynb\" target=\"_parent\"><img src=\"https://colab.research.google.com/assets/colab-badge.svg\" alt=\"Open In Colab\"/></a>"
      ]
    },
    {
      "cell_type": "markdown",
      "source": [
        "### Authors: P Deepak Sai , CB.EN.U4ELC20049\n",
        "### Objective: Credit Score Classification, Given a person’s credit-related information, build a machine learning model that can classify the credit score.\n",
        "### Input: Dataset\n",
        "### output: Accuracy"
      ],
      "metadata": {
        "id": "TXEly3xDFzzp"
      },
      "id": "TXEly3xDFzzp"
    },
    {
      "cell_type": "code",
      "execution_count": 74,
      "id": "918c9615",
      "metadata": {
        "id": "918c9615"
      },
      "outputs": [],
      "source": [
        "import pandas as pd\n",
        "import numpy as np\n",
        "import matplotlib.pyplot as plt\n",
        "\n",
        "import seaborn as sns\n",
        "import warnings\n",
        "from sklearn.preprocessing import OrdinalEncoder, MinMaxScaler, StandardScaler\n",
        "from sklearn.neighbors import KNeighborsClassifier #KNN classifier\n",
        "from sklearn.model_selection import GridSearchCV\n",
        "from sklearn.model_selection import train_test_split #to split data\n",
        "from sklearn.model_selection import cross_val_score\n",
        "\n",
        "import re\n",
        "\n",
        "from sklearn.model_selection import train_test_split\n",
        "from sklearn.metrics import classification_report, ConfusionMatrixDisplay, plot_confusion_matrix,confusion_matrix,accuracy_score # to get confusion matrix and accuracy\n",
        "\n",
        "from sklearn.preprocessing import LabelEncoder\n",
        "from collections import Counter\n",
        "from sklearn.preprocessing import OneHotEncoder\n",
        "from sklearn.compose import ColumnTransformer\n",
        "from sklearn.preprocessing import MaxAbsScaler\n",
        "from sklearn.impute import SimpleImputer\n",
        "\n",
        "%matplotlib inline\n",
        "warnings.filterwarnings('ignore')"
      ]
    },
    {
      "cell_type": "code",
      "execution_count": 4,
      "id": "8beadf20",
      "metadata": {
        "id": "8beadf20"
      },
      "outputs": [],
      "source": [
        "df=pd.read_csv(\"train.csv\")"
      ]
    },
    {
      "cell_type": "markdown",
      "source": [
        "# Data Preprocessing "
      ],
      "metadata": {
        "id": "zkE3HSf560AU"
      },
      "id": "zkE3HSf560AU"
    },
    {
      "cell_type": "markdown",
      "source": [
        "\"ID\", \"Customer_ID\", \"Name\" and \"SSN\" are unique to the person.  These are removed to reduce the dimensionality of the data."
      ],
      "metadata": {
        "id": "EFEU5fKZBuaA"
      },
      "id": "EFEU5fKZBuaA"
    },
    {
      "cell_type": "code",
      "execution_count": 5,
      "id": "8bdef6c9",
      "metadata": {
        "colab": {
          "base_uri": "https://localhost:8080/"
        },
        "id": "8bdef6c9",
        "outputId": "7c2eb357-164a-44af-8cef-f62aa2afa669"
      },
      "outputs": [
        {
          "output_type": "stream",
          "name": "stdout",
          "text": [
            "<class 'pandas.core.frame.DataFrame'>\n",
            "RangeIndex: 100000 entries, 0 to 99999\n",
            "Data columns (total 28 columns):\n",
            " #   Column                    Non-Null Count   Dtype  \n",
            "---  ------                    --------------   -----  \n",
            " 0   ID                        100000 non-null  object \n",
            " 1   Customer_ID               100000 non-null  object \n",
            " 2   Month                     100000 non-null  object \n",
            " 3   Name                      90015 non-null   object \n",
            " 4   Age                       100000 non-null  object \n",
            " 5   SSN                       100000 non-null  object \n",
            " 6   Occupation                100000 non-null  object \n",
            " 7   Annual_Income             100000 non-null  object \n",
            " 8   Monthly_Inhand_Salary     84998 non-null   float64\n",
            " 9   Num_Bank_Accounts         100000 non-null  int64  \n",
            " 10  Num_Credit_Card           100000 non-null  int64  \n",
            " 11  Interest_Rate             100000 non-null  int64  \n",
            " 12  Num_of_Loan               100000 non-null  object \n",
            " 13  Type_of_Loan              88592 non-null   object \n",
            " 14  Delay_from_due_date       100000 non-null  int64  \n",
            " 15  Num_of_Delayed_Payment    92998 non-null   object \n",
            " 16  Changed_Credit_Limit      100000 non-null  object \n",
            " 17  Num_Credit_Inquiries      98035 non-null   float64\n",
            " 18  Credit_Mix                100000 non-null  object \n",
            " 19  Outstanding_Debt          100000 non-null  object \n",
            " 20  Credit_Utilization_Ratio  100000 non-null  float64\n",
            " 21  Credit_History_Age        90970 non-null   object \n",
            " 22  Payment_of_Min_Amount     100000 non-null  object \n",
            " 23  Total_EMI_per_month       100000 non-null  float64\n",
            " 24  Amount_invested_monthly   95521 non-null   object \n",
            " 25  Payment_Behaviour         100000 non-null  object \n",
            " 26  Monthly_Balance           98800 non-null   object \n",
            " 27  Credit_Score              100000 non-null  object \n",
            "dtypes: float64(4), int64(4), object(20)\n",
            "memory usage: 21.4+ MB\n"
          ]
        }
      ],
      "source": [
        "df.info()\n",
        "df.drop(columns=[\"ID\", \"Customer_ID\", \"Name\", \"SSN\"], inplace=True)"
      ]
    },
    {
      "cell_type": "markdown",
      "source": [
        "# **Feature engineering**"
      ],
      "metadata": {
        "id": "dfx3Vahr6-Kn"
      },
      "id": "dfx3Vahr6-Kn"
    },
    {
      "cell_type": "code",
      "execution_count": 6,
      "id": "c4c647ce",
      "metadata": {
        "colab": {
          "base_uri": "https://localhost:8080/",
          "height": 560
        },
        "id": "c4c647ce",
        "outputId": "eab53fcc-9de6-425b-ee7e-136bf38e21c3"
      },
      "outputs": [
        {
          "output_type": "execute_result",
          "data": {
            "text/plain": [
              "      Month   Age Occupation Annual_Income  Monthly_Inhand_Salary  \\\n",
              "0   January    23  Scientist      19114.12            1824.843333   \n",
              "1  February    23  Scientist      19114.12                    NaN   \n",
              "2     March  -500  Scientist      19114.12                    NaN   \n",
              "3     April    23  Scientist      19114.12                    NaN   \n",
              "4       May    23  Scientist      19114.12            1824.843333   \n",
              "\n",
              "   Num_Bank_Accounts  Num_Credit_Card  Interest_Rate Num_of_Loan  \\\n",
              "0                  3                4              3           4   \n",
              "1                  3                4              3           4   \n",
              "2                  3                4              3           4   \n",
              "3                  3                4              3           4   \n",
              "4                  3                4              3           4   \n",
              "\n",
              "                                        Type_of_Loan  ...  Credit_Mix  \\\n",
              "0  Auto Loan, Credit-Builder Loan, Personal Loan,...  ...           _   \n",
              "1  Auto Loan, Credit-Builder Loan, Personal Loan,...  ...        Good   \n",
              "2  Auto Loan, Credit-Builder Loan, Personal Loan,...  ...        Good   \n",
              "3  Auto Loan, Credit-Builder Loan, Personal Loan,...  ...        Good   \n",
              "4  Auto Loan, Credit-Builder Loan, Personal Loan,...  ...        Good   \n",
              "\n",
              "  Outstanding_Debt Credit_Utilization_Ratio     Credit_History_Age  \\\n",
              "0           809.98                26.822620  22 Years and 1 Months   \n",
              "1           809.98                31.944960                    NaN   \n",
              "2           809.98                28.609352  22 Years and 3 Months   \n",
              "3           809.98                31.377862  22 Years and 4 Months   \n",
              "4           809.98                24.797347  22 Years and 5 Months   \n",
              "\n",
              "  Payment_of_Min_Amount Total_EMI_per_month  Amount_invested_monthly  \\\n",
              "0                    No           49.574949        80.41529543900253   \n",
              "1                    No           49.574949       118.28022162236736   \n",
              "2                    No           49.574949          81.699521264648   \n",
              "3                    No           49.574949        199.4580743910713   \n",
              "4                    No           49.574949       41.420153086217326   \n",
              "\n",
              "                  Payment_Behaviour     Monthly_Balance  Credit_Score  \n",
              "0   High_spent_Small_value_payments  312.49408867943663          Good  \n",
              "1    Low_spent_Large_value_payments  284.62916249607184          Good  \n",
              "2   Low_spent_Medium_value_payments   331.2098628537912          Good  \n",
              "3    Low_spent_Small_value_payments  223.45130972736786          Good  \n",
              "4  High_spent_Medium_value_payments  341.48923103222177          Good  \n",
              "\n",
              "[5 rows x 24 columns]"
            ],
            "text/html": [
              "\n",
              "  <div id=\"df-8ba4509e-493d-4d2e-9455-512ebc1e8e8a\">\n",
              "    <div class=\"colab-df-container\">\n",
              "      <div>\n",
              "<style scoped>\n",
              "    .dataframe tbody tr th:only-of-type {\n",
              "        vertical-align: middle;\n",
              "    }\n",
              "\n",
              "    .dataframe tbody tr th {\n",
              "        vertical-align: top;\n",
              "    }\n",
              "\n",
              "    .dataframe thead th {\n",
              "        text-align: right;\n",
              "    }\n",
              "</style>\n",
              "<table border=\"1\" class=\"dataframe\">\n",
              "  <thead>\n",
              "    <tr style=\"text-align: right;\">\n",
              "      <th></th>\n",
              "      <th>Month</th>\n",
              "      <th>Age</th>\n",
              "      <th>Occupation</th>\n",
              "      <th>Annual_Income</th>\n",
              "      <th>Monthly_Inhand_Salary</th>\n",
              "      <th>Num_Bank_Accounts</th>\n",
              "      <th>Num_Credit_Card</th>\n",
              "      <th>Interest_Rate</th>\n",
              "      <th>Num_of_Loan</th>\n",
              "      <th>Type_of_Loan</th>\n",
              "      <th>...</th>\n",
              "      <th>Credit_Mix</th>\n",
              "      <th>Outstanding_Debt</th>\n",
              "      <th>Credit_Utilization_Ratio</th>\n",
              "      <th>Credit_History_Age</th>\n",
              "      <th>Payment_of_Min_Amount</th>\n",
              "      <th>Total_EMI_per_month</th>\n",
              "      <th>Amount_invested_monthly</th>\n",
              "      <th>Payment_Behaviour</th>\n",
              "      <th>Monthly_Balance</th>\n",
              "      <th>Credit_Score</th>\n",
              "    </tr>\n",
              "  </thead>\n",
              "  <tbody>\n",
              "    <tr>\n",
              "      <th>0</th>\n",
              "      <td>January</td>\n",
              "      <td>23</td>\n",
              "      <td>Scientist</td>\n",
              "      <td>19114.12</td>\n",
              "      <td>1824.843333</td>\n",
              "      <td>3</td>\n",
              "      <td>4</td>\n",
              "      <td>3</td>\n",
              "      <td>4</td>\n",
              "      <td>Auto Loan, Credit-Builder Loan, Personal Loan,...</td>\n",
              "      <td>...</td>\n",
              "      <td>_</td>\n",
              "      <td>809.98</td>\n",
              "      <td>26.822620</td>\n",
              "      <td>22 Years and 1 Months</td>\n",
              "      <td>No</td>\n",
              "      <td>49.574949</td>\n",
              "      <td>80.41529543900253</td>\n",
              "      <td>High_spent_Small_value_payments</td>\n",
              "      <td>312.49408867943663</td>\n",
              "      <td>Good</td>\n",
              "    </tr>\n",
              "    <tr>\n",
              "      <th>1</th>\n",
              "      <td>February</td>\n",
              "      <td>23</td>\n",
              "      <td>Scientist</td>\n",
              "      <td>19114.12</td>\n",
              "      <td>NaN</td>\n",
              "      <td>3</td>\n",
              "      <td>4</td>\n",
              "      <td>3</td>\n",
              "      <td>4</td>\n",
              "      <td>Auto Loan, Credit-Builder Loan, Personal Loan,...</td>\n",
              "      <td>...</td>\n",
              "      <td>Good</td>\n",
              "      <td>809.98</td>\n",
              "      <td>31.944960</td>\n",
              "      <td>NaN</td>\n",
              "      <td>No</td>\n",
              "      <td>49.574949</td>\n",
              "      <td>118.28022162236736</td>\n",
              "      <td>Low_spent_Large_value_payments</td>\n",
              "      <td>284.62916249607184</td>\n",
              "      <td>Good</td>\n",
              "    </tr>\n",
              "    <tr>\n",
              "      <th>2</th>\n",
              "      <td>March</td>\n",
              "      <td>-500</td>\n",
              "      <td>Scientist</td>\n",
              "      <td>19114.12</td>\n",
              "      <td>NaN</td>\n",
              "      <td>3</td>\n",
              "      <td>4</td>\n",
              "      <td>3</td>\n",
              "      <td>4</td>\n",
              "      <td>Auto Loan, Credit-Builder Loan, Personal Loan,...</td>\n",
              "      <td>...</td>\n",
              "      <td>Good</td>\n",
              "      <td>809.98</td>\n",
              "      <td>28.609352</td>\n",
              "      <td>22 Years and 3 Months</td>\n",
              "      <td>No</td>\n",
              "      <td>49.574949</td>\n",
              "      <td>81.699521264648</td>\n",
              "      <td>Low_spent_Medium_value_payments</td>\n",
              "      <td>331.2098628537912</td>\n",
              "      <td>Good</td>\n",
              "    </tr>\n",
              "    <tr>\n",
              "      <th>3</th>\n",
              "      <td>April</td>\n",
              "      <td>23</td>\n",
              "      <td>Scientist</td>\n",
              "      <td>19114.12</td>\n",
              "      <td>NaN</td>\n",
              "      <td>3</td>\n",
              "      <td>4</td>\n",
              "      <td>3</td>\n",
              "      <td>4</td>\n",
              "      <td>Auto Loan, Credit-Builder Loan, Personal Loan,...</td>\n",
              "      <td>...</td>\n",
              "      <td>Good</td>\n",
              "      <td>809.98</td>\n",
              "      <td>31.377862</td>\n",
              "      <td>22 Years and 4 Months</td>\n",
              "      <td>No</td>\n",
              "      <td>49.574949</td>\n",
              "      <td>199.4580743910713</td>\n",
              "      <td>Low_spent_Small_value_payments</td>\n",
              "      <td>223.45130972736786</td>\n",
              "      <td>Good</td>\n",
              "    </tr>\n",
              "    <tr>\n",
              "      <th>4</th>\n",
              "      <td>May</td>\n",
              "      <td>23</td>\n",
              "      <td>Scientist</td>\n",
              "      <td>19114.12</td>\n",
              "      <td>1824.843333</td>\n",
              "      <td>3</td>\n",
              "      <td>4</td>\n",
              "      <td>3</td>\n",
              "      <td>4</td>\n",
              "      <td>Auto Loan, Credit-Builder Loan, Personal Loan,...</td>\n",
              "      <td>...</td>\n",
              "      <td>Good</td>\n",
              "      <td>809.98</td>\n",
              "      <td>24.797347</td>\n",
              "      <td>22 Years and 5 Months</td>\n",
              "      <td>No</td>\n",
              "      <td>49.574949</td>\n",
              "      <td>41.420153086217326</td>\n",
              "      <td>High_spent_Medium_value_payments</td>\n",
              "      <td>341.48923103222177</td>\n",
              "      <td>Good</td>\n",
              "    </tr>\n",
              "  </tbody>\n",
              "</table>\n",
              "<p>5 rows × 24 columns</p>\n",
              "</div>\n",
              "      <button class=\"colab-df-convert\" onclick=\"convertToInteractive('df-8ba4509e-493d-4d2e-9455-512ebc1e8e8a')\"\n",
              "              title=\"Convert this dataframe to an interactive table.\"\n",
              "              style=\"display:none;\">\n",
              "        \n",
              "  <svg xmlns=\"http://www.w3.org/2000/svg\" height=\"24px\"viewBox=\"0 0 24 24\"\n",
              "       width=\"24px\">\n",
              "    <path d=\"M0 0h24v24H0V0z\" fill=\"none\"/>\n",
              "    <path d=\"M18.56 5.44l.94 2.06.94-2.06 2.06-.94-2.06-.94-.94-2.06-.94 2.06-2.06.94zm-11 1L8.5 8.5l.94-2.06 2.06-.94-2.06-.94L8.5 2.5l-.94 2.06-2.06.94zm10 10l.94 2.06.94-2.06 2.06-.94-2.06-.94-.94-2.06-.94 2.06-2.06.94z\"/><path d=\"M17.41 7.96l-1.37-1.37c-.4-.4-.92-.59-1.43-.59-.52 0-1.04.2-1.43.59L10.3 9.45l-7.72 7.72c-.78.78-.78 2.05 0 2.83L4 21.41c.39.39.9.59 1.41.59.51 0 1.02-.2 1.41-.59l7.78-7.78 2.81-2.81c.8-.78.8-2.07 0-2.86zM5.41 20L4 18.59l7.72-7.72 1.47 1.35L5.41 20z\"/>\n",
              "  </svg>\n",
              "      </button>\n",
              "      \n",
              "  <style>\n",
              "    .colab-df-container {\n",
              "      display:flex;\n",
              "      flex-wrap:wrap;\n",
              "      gap: 12px;\n",
              "    }\n",
              "\n",
              "    .colab-df-convert {\n",
              "      background-color: #E8F0FE;\n",
              "      border: none;\n",
              "      border-radius: 50%;\n",
              "      cursor: pointer;\n",
              "      display: none;\n",
              "      fill: #1967D2;\n",
              "      height: 32px;\n",
              "      padding: 0 0 0 0;\n",
              "      width: 32px;\n",
              "    }\n",
              "\n",
              "    .colab-df-convert:hover {\n",
              "      background-color: #E2EBFA;\n",
              "      box-shadow: 0px 1px 2px rgba(60, 64, 67, 0.3), 0px 1px 3px 1px rgba(60, 64, 67, 0.15);\n",
              "      fill: #174EA6;\n",
              "    }\n",
              "\n",
              "    [theme=dark] .colab-df-convert {\n",
              "      background-color: #3B4455;\n",
              "      fill: #D2E3FC;\n",
              "    }\n",
              "\n",
              "    [theme=dark] .colab-df-convert:hover {\n",
              "      background-color: #434B5C;\n",
              "      box-shadow: 0px 1px 3px 1px rgba(0, 0, 0, 0.15);\n",
              "      filter: drop-shadow(0px 1px 2px rgba(0, 0, 0, 0.3));\n",
              "      fill: #FFFFFF;\n",
              "    }\n",
              "  </style>\n",
              "\n",
              "      <script>\n",
              "        const buttonEl =\n",
              "          document.querySelector('#df-8ba4509e-493d-4d2e-9455-512ebc1e8e8a button.colab-df-convert');\n",
              "        buttonEl.style.display =\n",
              "          google.colab.kernel.accessAllowed ? 'block' : 'none';\n",
              "\n",
              "        async function convertToInteractive(key) {\n",
              "          const element = document.querySelector('#df-8ba4509e-493d-4d2e-9455-512ebc1e8e8a');\n",
              "          const dataTable =\n",
              "            await google.colab.kernel.invokeFunction('convertToInteractive',\n",
              "                                                     [key], {});\n",
              "          if (!dataTable) return;\n",
              "\n",
              "          const docLinkHtml = 'Like what you see? Visit the ' +\n",
              "            '<a target=\"_blank\" href=https://colab.research.google.com/notebooks/data_table.ipynb>data table notebook</a>'\n",
              "            + ' to learn more about interactive tables.';\n",
              "          element.innerHTML = '';\n",
              "          dataTable['output_type'] = 'display_data';\n",
              "          await google.colab.output.renderOutput(dataTable, element);\n",
              "          const docLink = document.createElement('div');\n",
              "          docLink.innerHTML = docLinkHtml;\n",
              "          element.appendChild(docLink);\n",
              "        }\n",
              "      </script>\n",
              "    </div>\n",
              "  </div>\n",
              "  "
            ]
          },
          "metadata": {},
          "execution_count": 6
        }
      ],
      "source": [
        "df.head()"
      ]
    },
    {
      "cell_type": "markdown",
      "source": [
        "<ul> Modifications to be done: <ul/>\n",
        "    <li> The string \"_\" is removed from the entries </li>\n",
        "    <li> The variable is casted as numeric </li>\n",
        "    <li> Ages above 100 and below 18 are coded as missing and will be imputed later. This counts for 8.5% of the total observations </li>"
      ],
      "metadata": {
        "id": "A2gDLWW5CAtR"
      },
      "id": "A2gDLWW5CAtR"
    },
    {
      "cell_type": "code",
      "execution_count": 7,
      "id": "5d8f5460",
      "metadata": {
        "colab": {
          "base_uri": "https://localhost:8080/"
        },
        "id": "5d8f5460",
        "outputId": "ac989722-7c6f-43ee-fd2e-f1aacb4c2664"
      },
      "outputs": [
        {
          "output_type": "execute_result",
          "data": {
            "text/plain": [
              "38      2833\n",
              "28      2829\n",
              "31      2806\n",
              "26      2792\n",
              "32      2749\n",
              "        ... \n",
              "471        1\n",
              "1520       1\n",
              "8663       1\n",
              "3363       1\n",
              "1342       1\n",
              "Name: Age, Length: 1788, dtype: int64"
            ]
          },
          "metadata": {},
          "execution_count": 7
        }
      ],
      "source": [
        "df[\"Age\"].value_counts()"
      ]
    },
    {
      "cell_type": "code",
      "execution_count": 8,
      "id": "bad2063e",
      "metadata": {
        "id": "bad2063e"
      },
      "outputs": [],
      "source": [
        "df[\"Age\"] = df[\"Age\"].str.replace(\"_\", \"\")"
      ]
    },
    {
      "cell_type": "code",
      "execution_count": 9,
      "id": "758bca63",
      "metadata": {
        "id": "758bca63"
      },
      "outputs": [],
      "source": [
        "df[\"Age\"] = pd.to_numeric(df[\"Age\"])"
      ]
    },
    {
      "cell_type": "code",
      "execution_count": 10,
      "id": "223c6801",
      "metadata": {
        "id": "223c6801"
      },
      "outputs": [],
      "source": [
        "#dataprocessing, Less then 18 and greater than 18, we'll modify it to null\n",
        "\n",
        "for i in range(len(df)):\n",
        "    if df[\"Age\"][i] > 100 or df[\"Age\"][i] < 18 :\n",
        "        df[\"Age\"][i] = None    \n"
      ]
    },
    {
      "cell_type": "markdown",
      "source": [
        "<ul> Changes made:\n",
        "<li> The value \"_______\" is replaced by \"Other\". This equals 7% of the total data. </li> </ul>"
      ],
      "metadata": {
        "id": "TRWaSHbQCMTt"
      },
      "id": "TRWaSHbQCMTt"
    },
    {
      "cell_type": "code",
      "execution_count": 11,
      "id": "07d33104",
      "metadata": {
        "colab": {
          "base_uri": "https://localhost:8080/"
        },
        "id": "07d33104",
        "outputId": "af6e1ca4-3aea-4150-ff4d-c7434158819a"
      },
      "outputs": [
        {
          "output_type": "execute_result",
          "data": {
            "text/plain": [
              "_______          0.07062\n",
              "Lawyer           0.06575\n",
              "Architect        0.06355\n",
              "Engineer         0.06350\n",
              "Scientist        0.06299\n",
              "Mechanic         0.06291\n",
              "Accountant       0.06271\n",
              "Developer        0.06235\n",
              "Media_Manager    0.06232\n",
              "Teacher          0.06215\n",
              "Entrepreneur     0.06174\n",
              "Doctor           0.06087\n",
              "Journalist       0.06085\n",
              "Manager          0.05973\n",
              "Musician         0.05911\n",
              "Writer           0.05885\n",
              "Name: Occupation, dtype: float64"
            ]
          },
          "metadata": {},
          "execution_count": 11
        }
      ],
      "source": [
        "df[\"Occupation\"].value_counts(normalize=True)\n"
      ]
    },
    {
      "cell_type": "code",
      "execution_count": 12,
      "id": "3b40c969",
      "metadata": {
        "id": "3b40c969"
      },
      "outputs": [],
      "source": [
        "for i in range(len(df)):\n",
        "    if df[\"Occupation\"][i] == \"_______\":\n",
        "        df[\"Occupation\"][i] = \"Other\""
      ]
    },
    {
      "cell_type": "markdown",
      "source": [
        "<ul> Notes and changes <ul/>\n",
        "    <li> The string \"_\" is removed from the entries </li>\n",
        "     <li> The variable is casted as numeric </li>"
      ],
      "metadata": {
        "id": "zK6nSNLyCRhX"
      },
      "id": "zK6nSNLyCRhX"
    },
    {
      "cell_type": "code",
      "execution_count": 13,
      "id": "28c390e7",
      "metadata": {
        "colab": {
          "base_uri": "https://localhost:8080/"
        },
        "id": "28c390e7",
        "outputId": "9a09b3bf-aef6-42d5-ddf4-24ca9c7ccb56"
      },
      "outputs": [
        {
          "output_type": "execute_result",
          "data": {
            "text/plain": [
              "36585.12     16\n",
              "20867.67     16\n",
              "17273.83     16\n",
              "9141.63      15\n",
              "33029.66     15\n",
              "             ..\n",
              "20269.93_     1\n",
              "15157.25_     1\n",
              "44955.64_     1\n",
              "76650.12_     1\n",
              "4262933.0     1\n",
              "Name: Annual_Income, Length: 18940, dtype: int64"
            ]
          },
          "metadata": {},
          "execution_count": 13
        }
      ],
      "source": [
        "df[\"Annual_Income\"].value_counts()"
      ]
    },
    {
      "cell_type": "code",
      "execution_count": 14,
      "id": "d5c05dc5",
      "metadata": {
        "id": "d5c05dc5"
      },
      "outputs": [],
      "source": [
        "df[\"Annual_Income\"] = df[\"Annual_Income\"].str.replace(\"_\", \"\")"
      ]
    },
    {
      "cell_type": "code",
      "execution_count": 15,
      "id": "91bea891",
      "metadata": {
        "id": "91bea891"
      },
      "outputs": [],
      "source": [
        "df[\"Annual_Income\"] = pd.to_numeric(df[\"Annual_Income\"])"
      ]
    },
    {
      "cell_type": "markdown",
      "source": [
        "<ul> Changes: <ul/>\n",
        "    <li> Entries above 100 are deleted, assuming they're error. </li>"
      ],
      "metadata": {
        "id": "F3wEOrfICa3n"
      },
      "id": "F3wEOrfICa3n"
    },
    {
      "cell_type": "code",
      "execution_count": 16,
      "id": "f51fd15a",
      "metadata": {
        "colab": {
          "base_uri": "https://localhost:8080/"
        },
        "id": "f51fd15a",
        "outputId": "ebba9779-8a22-45db-be41-77d09af48003"
      },
      "outputs": [
        {
          "output_type": "execute_result",
          "data": {
            "text/plain": [
              "6       13001\n",
              "7       12823\n",
              "8       12765\n",
              "4       12186\n",
              "5       12118\n",
              "        ...  \n",
              "1626        1\n",
              "1470        1\n",
              "887         1\n",
              "211         1\n",
              "697         1\n",
              "Name: Num_Bank_Accounts, Length: 943, dtype: int64"
            ]
          },
          "metadata": {},
          "execution_count": 16
        }
      ],
      "source": [
        "df[\"Num_Bank_Accounts\"].value_counts()"
      ]
    },
    {
      "cell_type": "code",
      "execution_count": 17,
      "id": "313ceea5",
      "metadata": {
        "id": "313ceea5"
      },
      "outputs": [],
      "source": [
        "for i in range(len(df)):\n",
        "    if df[\"Num_Bank_Accounts\"][i] > 100:\n",
        "        df[\"Num_Bank_Accounts\"][i] = None"
      ]
    },
    {
      "cell_type": "markdown",
      "source": [
        "<ul> Changes: <ul/>\n",
        "    <li> Entries above 100 are deleted, assuming they're error. </li>"
      ],
      "metadata": {
        "id": "MMYIuHvYCtMe"
      },
      "id": "MMYIuHvYCtMe"
    },
    {
      "cell_type": "code",
      "execution_count": 18,
      "id": "0582fc41",
      "metadata": {
        "colab": {
          "base_uri": "https://localhost:8080/"
        },
        "id": "0582fc41",
        "outputId": "a2b0ce11-a15c-40e7-9e66-a3c3ae241656"
      },
      "outputs": [
        {
          "output_type": "execute_result",
          "data": {
            "text/plain": [
              "5       18459\n",
              "7       16615\n",
              "6       16559\n",
              "4       14030\n",
              "3       13277\n",
              "        ...  \n",
              "791         1\n",
              "1118        1\n",
              "657         1\n",
              "640         1\n",
              "679         1\n",
              "Name: Num_Credit_Card, Length: 1179, dtype: int64"
            ]
          },
          "metadata": {},
          "execution_count": 18
        }
      ],
      "source": [
        "df[\"Num_Credit_Card\"].value_counts()"
      ]
    },
    {
      "cell_type": "code",
      "execution_count": 19,
      "id": "0c897089",
      "metadata": {
        "id": "0c897089"
      },
      "outputs": [],
      "source": [
        "for i in range(len(df)):\n",
        "    if df[\"Num_Credit_Card\"][i] > 100:\n",
        "        df[\"Num_Credit_Card\"][i] = None"
      ]
    },
    {
      "cell_type": "markdown",
      "source": [
        "<ul> Changes: <ul/>\n",
        "    <li> Entries above 50 are thought to be coded erronously and are set to NaN </li>"
      ],
      "metadata": {
        "id": "bfbR1PFJCykF"
      },
      "id": "bfbR1PFJCykF"
    },
    {
      "cell_type": "code",
      "execution_count": 20,
      "id": "572977d8",
      "metadata": {
        "colab": {
          "base_uri": "https://localhost:8080/"
        },
        "id": "572977d8",
        "outputId": "f0db0d4a-9e05-4010-d8f2-2bf688580b21"
      },
      "outputs": [
        {
          "output_type": "execute_result",
          "data": {
            "text/plain": [
              "1       2683\n",
              "2       2465\n",
              "3       2765\n",
              "4       2589\n",
              "5       4979\n",
              "        ... \n",
              "5775       1\n",
              "5776       1\n",
              "5788       1\n",
              "5789       1\n",
              "5797       1\n",
              "Name: Interest_Rate, Length: 1750, dtype: int64"
            ]
          },
          "metadata": {},
          "execution_count": 20
        }
      ],
      "source": [
        "df[\"Interest_Rate\"].value_counts().sort_index()"
      ]
    },
    {
      "cell_type": "code",
      "execution_count": 21,
      "id": "539d2fdb",
      "metadata": {
        "id": "539d2fdb"
      },
      "outputs": [],
      "source": [
        "for i in range(len(df)):\n",
        "    if df[\"Interest_Rate\"][i] > 100:\n",
        "        df[\"Interest_Rate\"][i] = None"
      ]
    },
    {
      "cell_type": "markdown",
      "source": [
        "<ul> Changes made to dataset <ul/>\n",
        "    <li> The string \"_\" is removed from the entries </li>\n",
        "    <li> The variable is casted as numeric </li>\n",
        "    <li> The value -100 is considered erronous and is set to NaN </li>\n",
        "    <li> Values above 50 are considered erronous and is set to NaN </li>"
      ],
      "metadata": {
        "id": "R1GyTKAhC5LI"
      },
      "id": "R1GyTKAhC5LI"
    },
    {
      "cell_type": "code",
      "execution_count": 22,
      "id": "b9959ea2",
      "metadata": {
        "colab": {
          "base_uri": "https://localhost:8080/"
        },
        "id": "b9959ea2",
        "outputId": "016a817b-24c7-4c3b-a6d3-d26a47491d25"
      },
      "outputs": [
        {
          "output_type": "execute_result",
          "data": {
            "text/plain": [
              "3        14386\n",
              "2        14250\n",
              "4        14016\n",
              "0        10380\n",
              "1        10083\n",
              "         ...  \n",
              "1320_        1\n",
              "103          1\n",
              "1444         1\n",
              "392          1\n",
              "966          1\n",
              "Name: Num_of_Loan, Length: 434, dtype: int64"
            ]
          },
          "metadata": {},
          "execution_count": 22
        }
      ],
      "source": [
        "df[\"Num_of_Loan\"].value_counts()"
      ]
    },
    {
      "cell_type": "code",
      "execution_count": 23,
      "id": "905a40c9",
      "metadata": {
        "id": "905a40c9"
      },
      "outputs": [],
      "source": [
        "df[\"Num_of_Loan\"] = df[\"Num_of_Loan\"].str.replace(\"_\", \"\")\n",
        "df[\"Num_of_Loan\"] = pd.to_numeric(df[\"Num_of_Loan\"])"
      ]
    },
    {
      "cell_type": "code",
      "execution_count": 24,
      "id": "73b9ef6b",
      "metadata": {
        "id": "73b9ef6b"
      },
      "outputs": [],
      "source": [
        "for i in range(len(df)):\n",
        "    if df[\"Num_of_Loan\"][i] > 50 or df[\"Num_of_Loan\"][i] == -100:\n",
        "        df[\"Num_of_Loan\"][i] = None"
      ]
    },
    {
      "cell_type": "code",
      "execution_count": 25,
      "id": "2a4729ac",
      "metadata": {
        "colab": {
          "base_uri": "https://localhost:8080/"
        },
        "id": "2a4729ac",
        "outputId": "6653187b-9e19-427f-decd-7c36758d9e8d"
      },
      "outputs": [
        {
          "output_type": "execute_result",
          "data": {
            "text/plain": [
              "Not Specified                                                                                                                         1408\n",
              "Credit-Builder Loan                                                                                                                   1280\n",
              "Personal Loan                                                                                                                         1272\n",
              "Debt Consolidation Loan                                                                                                               1264\n",
              "Student Loan                                                                                                                          1240\n",
              "                                                                                                                                      ... \n",
              "Not Specified, Mortgage Loan, Auto Loan, and Payday Loan                                                                                 8\n",
              "Payday Loan, Mortgage Loan, Debt Consolidation Loan, and Student Loan                                                                    8\n",
              "Debt Consolidation Loan, Auto Loan, Personal Loan, Debt Consolidation Loan, Student Loan, and Credit-Builder Loan                        8\n",
              "Student Loan, Auto Loan, Student Loan, Credit-Builder Loan, Home Equity Loan, Debt Consolidation Loan, and Debt Consolidation Loan       8\n",
              "Personal Loan, Auto Loan, Mortgage Loan, Student Loan, and Student Loan                                                                  8\n",
              "Name: Type_of_Loan, Length: 6260, dtype: int64"
            ]
          },
          "metadata": {},
          "execution_count": 25
        }
      ],
      "source": [
        "df[\"Type_of_Loan\"].value_counts()"
      ]
    },
    {
      "cell_type": "markdown",
      "source": [
        "<ul> Notes and changes <ul/>\n",
        "    <li> No changes are made </li>\n",
        "    <li> Negative values are assumed to be upfront payments, although they might also be erronous.  </li>\n"
      ],
      "metadata": {
        "id": "zbozaKC2DGlm"
      },
      "id": "zbozaKC2DGlm"
    },
    {
      "cell_type": "code",
      "execution_count": 26,
      "id": "84807372",
      "metadata": {
        "colab": {
          "base_uri": "https://localhost:8080/"
        },
        "id": "84807372",
        "outputId": "9975b86a-7a47-4621-9975-4091f85878c5"
      },
      "outputs": [
        {
          "output_type": "execute_result",
          "data": {
            "text/plain": [
              "-5      33\n",
              "-4      62\n",
              "-3     118\n",
              "-2     168\n",
              "-1     210\n",
              "      ... \n",
              " 63     69\n",
              " 64     64\n",
              " 65     56\n",
              " 66     32\n",
              " 67     22\n",
              "Name: Delay_from_due_date, Length: 73, dtype: int64"
            ]
          },
          "metadata": {},
          "execution_count": 26
        }
      ],
      "source": [
        "df[\"Delay_from_due_date\"].value_counts().sort_index()"
      ]
    },
    {
      "cell_type": "markdown",
      "source": [
        "<ul> Notes and changes <ul/>\n",
        "    <li> The string \"_\" is removed from the entries </li>\n",
        "    <li> The variable is casted as numeric </li>\n",
        "\n"
      ],
      "metadata": {
        "id": "uu8iRWvEDLtB"
      },
      "id": "uu8iRWvEDLtB"
    },
    {
      "cell_type": "code",
      "execution_count": 27,
      "id": "1cec9803",
      "metadata": {
        "colab": {
          "base_uri": "https://localhost:8080/"
        },
        "id": "1cec9803",
        "outputId": "b586647c-1a35-44ab-f729-49a22be92fd2"
      },
      "outputs": [
        {
          "output_type": "execute_result",
          "data": {
            "text/plain": [
              "-1     308\n",
              "-1_      8\n",
              "-2     223\n",
              "-2_     11\n",
              "-3      91\n",
              "      ... \n",
              "972      1\n",
              "974      1\n",
              "98       1\n",
              "996      1\n",
              "9_     147\n",
              "Name: Num_of_Delayed_Payment, Length: 749, dtype: int64"
            ]
          },
          "metadata": {},
          "execution_count": 27
        }
      ],
      "source": [
        "df[\"Num_of_Delayed_Payment\"].value_counts().sort_index()"
      ]
    },
    {
      "cell_type": "code",
      "execution_count": 28,
      "id": "72ddd64e",
      "metadata": {
        "id": "72ddd64e"
      },
      "outputs": [],
      "source": [
        "df[\"Num_of_Delayed_Payment\"] = df[\"Num_of_Delayed_Payment\"].str.replace(\"_\", \"\")\n",
        "df[\"Num_of_Delayed_Payment\"] = pd.to_numeric(df[\"Num_of_Delayed_Payment\"])"
      ]
    },
    {
      "cell_type": "markdown",
      "source": [
        "<ul> Notes and changes <ul/>\n",
        "    <li> The value _ is considered erronous and is set to NaN </li>\n"
      ],
      "metadata": {
        "id": "_apj0gvIDQFO"
      },
      "id": "_apj0gvIDQFO"
    },
    {
      "cell_type": "code",
      "execution_count": 29,
      "id": "77f67f50",
      "metadata": {
        "colab": {
          "base_uri": "https://localhost:8080/"
        },
        "id": "77f67f50",
        "outputId": "d246bf76-7bbc-4c96-8b0d-d3ddbde6737e"
      },
      "outputs": [
        {
          "output_type": "execute_result",
          "data": {
            "text/plain": [
              "-0.009999999999999787       4\n",
              "-0.01999999999999957        3\n",
              "-0.020000000000000014       3\n",
              "-0.029999999999999805       1\n",
              "-0.030000000000000027       1\n",
              "                         ... \n",
              "9.97                       97\n",
              "9.98                       63\n",
              "9.989999999999998           2\n",
              "9.99                       80\n",
              "_                        2091\n",
              "Name: Changed_Credit_Limit, Length: 4384, dtype: int64"
            ]
          },
          "metadata": {},
          "execution_count": 29
        }
      ],
      "source": [
        "df[\"Changed_Credit_Limit\"].value_counts().sort_index()"
      ]
    },
    {
      "cell_type": "code",
      "execution_count": 30,
      "id": "fbc26062",
      "metadata": {
        "id": "fbc26062"
      },
      "outputs": [],
      "source": [
        "for i in range(len(df)):\n",
        "    if df[\"Changed_Credit_Limit\"][i] == \"_\" :\n",
        "        df[\"Changed_Credit_Limit\"][i] = None"
      ]
    },
    {
      "cell_type": "code",
      "execution_count": 31,
      "id": "37fbb399",
      "metadata": {
        "colab": {
          "base_uri": "https://localhost:8080/"
        },
        "id": "37fbb399",
        "outputId": "9ddd743c-50bd-4cae-fe14-1153005f1643"
      },
      "outputs": [
        {
          "output_type": "execute_result",
          "data": {
            "text/plain": [
              "0.0        6972\n",
              "1.0        7588\n",
              "2.0        8028\n",
              "3.0        8890\n",
              "4.0       11271\n",
              "          ...  \n",
              "2588.0        1\n",
              "2589.0        2\n",
              "2592.0        2\n",
              "2594.0        1\n",
              "2597.0        1\n",
              "Name: Num_Credit_Inquiries, Length: 1223, dtype: int64"
            ]
          },
          "metadata": {},
          "execution_count": 31
        }
      ],
      "source": [
        "df[\"Num_Credit_Inquiries\"].value_counts().sort_index()"
      ]
    },
    {
      "cell_type": "code",
      "execution_count": 32,
      "id": "7d76311a",
      "metadata": {
        "colab": {
          "base_uri": "https://localhost:8080/"
        },
        "id": "7d76311a",
        "outputId": "d50fb267-9156-487f-8e15-a6de453dde26"
      },
      "outputs": [
        {
          "output_type": "execute_result",
          "data": {
            "text/plain": [
              "Standard    36479\n",
              "Good        24337\n",
              "_           20195\n",
              "Bad         18989\n",
              "Name: Credit_Mix, dtype: int64"
            ]
          },
          "metadata": {},
          "execution_count": 32
        }
      ],
      "source": [
        "df[\"Credit_Mix\"].value_counts()"
      ]
    },
    {
      "cell_type": "code",
      "execution_count": 33,
      "id": "c7af2c36",
      "metadata": {
        "id": "c7af2c36"
      },
      "outputs": [],
      "source": [
        "for i in range(len(df)):\n",
        "    if df[\"Credit_Mix\"][i] == \"_\" :\n",
        "        df[\"Credit_Mix\"][i] = None"
      ]
    },
    {
      "cell_type": "markdown",
      "source": [
        "<ul> Notes and changes <ul/>\n",
        "    <li> The string \"_\" is removed from the entries </li>\n",
        "    <li> The variable is casted as numeric </li>"
      ],
      "metadata": {
        "id": "FBdiXsTbDVZc"
      },
      "id": "FBdiXsTbDVZc"
    },
    {
      "cell_type": "code",
      "execution_count": 34,
      "id": "df8b0593",
      "metadata": {
        "colab": {
          "base_uri": "https://localhost:8080/"
        },
        "id": "df8b0593",
        "outputId": "88bf3120-8232-41c6-cb8d-f44f0a7c89b8"
      },
      "outputs": [
        {
          "output_type": "execute_result",
          "data": {
            "text/plain": [
              "0.23      8\n",
              "0.34      8\n",
              "0.54      8\n",
              "0.56      8\n",
              "0.77      8\n",
              "         ..\n",
              "998.95    8\n",
              "999.12    8\n",
              "999.25    8\n",
              "999.36    8\n",
              "999.48    8\n",
              "Name: Outstanding_Debt, Length: 13178, dtype: int64"
            ]
          },
          "metadata": {},
          "execution_count": 34
        }
      ],
      "source": [
        "df[\"Outstanding_Debt\"].value_counts().sort_index()"
      ]
    },
    {
      "cell_type": "code",
      "execution_count": 35,
      "id": "e172592c",
      "metadata": {
        "id": "e172592c"
      },
      "outputs": [],
      "source": [
        "df[\"Outstanding_Debt\"] = df[\"Outstanding_Debt\"].str.replace(\"_\", \"\")\n",
        "df[\"Outstanding_Debt\"] = pd.to_numeric(df[\"Outstanding_Debt\"])"
      ]
    },
    {
      "cell_type": "code",
      "execution_count": 36,
      "id": "1c9fd72f",
      "metadata": {
        "colab": {
          "base_uri": "https://localhost:8080/"
        },
        "id": "1c9fd72f",
        "outputId": "cacb9690-db87-4fe8-db61-e2e2daa52922"
      },
      "outputs": [
        {
          "output_type": "execute_result",
          "data": {
            "text/plain": [
              "26.822620    1\n",
              "28.327949    1\n",
              "30.016576    1\n",
              "25.478841    1\n",
              "33.933755    1\n",
              "            ..\n",
              "30.687138    1\n",
              "38.730069    1\n",
              "30.017515    1\n",
              "27.279794    1\n",
              "34.192463    1\n",
              "Name: Credit_Utilization_Ratio, Length: 100000, dtype: int64"
            ]
          },
          "metadata": {},
          "execution_count": 36
        }
      ],
      "source": [
        "df[\"Credit_Utilization_Ratio\"].value_counts()"
      ]
    },
    {
      "cell_type": "code",
      "execution_count": 37,
      "id": "80d13ca5",
      "metadata": {
        "colab": {
          "base_uri": "https://localhost:8080/"
        },
        "id": "80d13ca5",
        "outputId": "4b42acd4-3e09-49f7-de50-5ad9618e4c8a"
      },
      "outputs": [
        {
          "output_type": "execute_result",
          "data": {
            "text/plain": [
              "15 Years and 11 Months    446\n",
              "19 Years and 4 Months     445\n",
              "19 Years and 5 Months     444\n",
              "17 Years and 11 Months    443\n",
              "19 Years and 3 Months     441\n",
              "                         ... \n",
              "0 Years and 3 Months       20\n",
              "0 Years and 2 Months       15\n",
              "33 Years and 7 Months      14\n",
              "33 Years and 8 Months      12\n",
              "0 Years and 1 Months        2\n",
              "Name: Credit_History_Age, Length: 404, dtype: int64"
            ]
          },
          "metadata": {},
          "execution_count": 37
        }
      ],
      "source": [
        "df[\"Credit_History_Age\"].value_counts()"
      ]
    },
    {
      "cell_type": "code",
      "execution_count": 38,
      "id": "fa56b280",
      "metadata": {
        "id": "fa56b280"
      },
      "outputs": [],
      "source": [
        "df[\"Credit_History_Age\"].fillna(0, inplace=True)\n"
      ]
    },
    {
      "cell_type": "markdown",
      "source": [
        "<ul> Notes and changes <ul/>\n",
        "    <li> The years and months are coded as total months </li>\n",
        "    <li> The variable is casted as numeric </li>"
      ],
      "metadata": {
        "id": "89JdZgZSDbYk"
      },
      "id": "89JdZgZSDbYk"
    },
    {
      "cell_type": "code",
      "execution_count": 39,
      "id": "7c3a99a4",
      "metadata": {
        "id": "7c3a99a4"
      },
      "outputs": [],
      "source": [
        "#processing total years and months in words to total months in int \n",
        "\n",
        "for m in range(len(df)):\n",
        "    \n",
        "    i = df[\"Credit_History_Age\"][m]\n",
        "    if i != 0:\n",
        "        total_months = 0\n",
        "        total_months += int(i.split(\"Years\")[0]) * 12\n",
        "        total_months += int((re.match(r\"^.*and (.*) Months.*$\", i)).group(1))\n",
        "        df[\"Credit_History_Age\"][m] = total_months\n"
      ]
    },
    {
      "cell_type": "code",
      "execution_count": 40,
      "id": "6e06bb43",
      "metadata": {
        "id": "6e06bb43"
      },
      "outputs": [],
      "source": [
        "df[\"Credit_History_Age\"] = pd.to_numeric(df[\"Credit_History_Age\"])"
      ]
    },
    {
      "cell_type": "code",
      "execution_count": 41,
      "id": "59c0a345",
      "metadata": {
        "colab": {
          "base_uri": "https://localhost:8080/"
        },
        "id": "59c0a345",
        "outputId": "f501347b-5288-4ef8-e591-c5cd9e388008"
      },
      "outputs": [
        {
          "output_type": "execute_result",
          "data": {
            "text/plain": [
              "Yes    52326\n",
              "No     35667\n",
              "NM     12007\n",
              "Name: Payment_of_Min_Amount, dtype: int64"
            ]
          },
          "metadata": {},
          "execution_count": 41
        }
      ],
      "source": [
        "df[\"Payment_of_Min_Amount\"].value_counts()"
      ]
    },
    {
      "cell_type": "code",
      "execution_count": 42,
      "id": "ab3f1142",
      "metadata": {
        "colab": {
          "base_uri": "https://localhost:8080/"
        },
        "id": "ab3f1142",
        "outputId": "b961168a-ce9f-442d-b597-3b81b93893ad"
      },
      "outputs": [
        {
          "output_type": "execute_result",
          "data": {
            "text/plain": [
              "0.000000        10613\n",
              "4.462837            8\n",
              "4.713184            8\n",
              "4.865690            8\n",
              "4.916139            8\n",
              "                ...  \n",
              "82193.000000        1\n",
              "82204.000000        1\n",
              "82236.000000        1\n",
              "82256.000000        1\n",
              "82331.000000        1\n",
              "Name: Total_EMI_per_month, Length: 14950, dtype: int64"
            ]
          },
          "metadata": {},
          "execution_count": 42
        }
      ],
      "source": [
        "df[\"Total_EMI_per_month\"].value_counts().sort_index()"
      ]
    },
    {
      "cell_type": "code",
      "execution_count": 43,
      "id": "af3a696f",
      "metadata": {
        "colab": {
          "base_uri": "https://localhost:8080/"
        },
        "id": "af3a696f",
        "outputId": "db4d29b1-33da-4d47-cc94-4b42e77e5e15"
      },
      "outputs": [
        {
          "output_type": "execute_result",
          "data": {
            "text/plain": [
              "__10000__             4305\n",
              "0.0                    169\n",
              "80.41529543900253        1\n",
              "36.66235139442514        1\n",
              "89.7384893604547         1\n",
              "                      ... \n",
              "36.541908593249026       1\n",
              "93.45116318631192        1\n",
              "140.80972223052834       1\n",
              "38.73937670100975        1\n",
              "167.1638651610451        1\n",
              "Name: Amount_invested_monthly, Length: 91049, dtype: int64"
            ]
          },
          "metadata": {},
          "execution_count": 43
        }
      ],
      "source": [
        "df[\"Amount_invested_monthly\"].value_counts()"
      ]
    },
    {
      "cell_type": "markdown",
      "source": [
        "<ul> Notes and changes <ul/>\n",
        "    <li> The string \"_\" is removed from the entries </li>\n",
        "    <li> The variable is casted as numeric </li>\n",
        "    <li> The value 10000 is considered erronous and is coded as None </li>"
      ],
      "metadata": {
        "id": "ukVWKcKWDjvM"
      },
      "id": "ukVWKcKWDjvM"
    },
    {
      "cell_type": "code",
      "execution_count": 44,
      "id": "905954d6",
      "metadata": {
        "id": "905954d6"
      },
      "outputs": [],
      "source": [
        "df[\"Amount_invested_monthly\"] = df[\"Amount_invested_monthly\"].str.replace(\"_\", \"\")\n",
        "df[\"Amount_invested_monthly\"] = pd.to_numeric(df[\"Amount_invested_monthly\"])"
      ]
    },
    {
      "cell_type": "code",
      "execution_count": 45,
      "id": "6b4bbe6d",
      "metadata": {
        "colab": {
          "base_uri": "https://localhost:8080/"
        },
        "id": "6b4bbe6d",
        "outputId": "accb9924-20c6-4fbb-b2a9-07a54c671666"
      },
      "outputs": [
        {
          "output_type": "execute_result",
          "data": {
            "text/plain": [
              "Low_spent_Small_value_payments      25513\n",
              "High_spent_Medium_value_payments    17540\n",
              "Low_spent_Medium_value_payments     13861\n",
              "High_spent_Large_value_payments     13721\n",
              "High_spent_Small_value_payments     11340\n",
              "Low_spent_Large_value_payments      10425\n",
              "!@9#%8                               7600\n",
              "Name: Payment_Behaviour, dtype: int64"
            ]
          },
          "metadata": {},
          "execution_count": 45
        }
      ],
      "source": [
        "df[\"Payment_Behaviour\"].value_counts()\n"
      ]
    },
    {
      "cell_type": "markdown",
      "source": [
        "<ul> Notes and changes <ul/>\n",
        "    <li> The value \"x!@9#%8\" is recoded to \"Other\" </li>"
      ],
      "metadata": {
        "id": "hud13SyoDpg5"
      },
      "id": "hud13SyoDpg5"
    },
    {
      "cell_type": "code",
      "execution_count": 46,
      "id": "d49dba8b",
      "metadata": {
        "id": "d49dba8b"
      },
      "outputs": [],
      "source": [
        "#The value \"x!@9#%8\" is recoded to \"Other\"\n",
        "\n",
        "for i in range(len(df)):\n",
        "    if df[\"Payment_Behaviour\"][i] == \"!@9#%8\":\n",
        "        df[\"Payment_Behaviour\"][i] = \"Other\""
      ]
    },
    {
      "cell_type": "code",
      "execution_count": 47,
      "id": "470061ed",
      "metadata": {
        "colab": {
          "base_uri": "https://localhost:8080/"
        },
        "id": "470061ed",
        "outputId": "630fcf8d-2879-44fd-9026-6ed7ae713aff"
      },
      "outputs": [
        {
          "output_type": "execute_result",
          "data": {
            "text/plain": [
              "__-333333333333333333333333333__    9\n",
              "312.49408867943663                  1\n",
              "415.32532309844316                  1\n",
              "252.08489793906085                  1\n",
              "254.9709216273975                   1\n",
              "                                   ..\n",
              "366.2890379762706                   1\n",
              "151.1882696261166                   1\n",
              "306.75027851710234                  1\n",
              "278.8720257394474                   1\n",
              "393.6736955618808                   1\n",
              "Name: Monthly_Balance, Length: 98792, dtype: int64"
            ]
          },
          "metadata": {},
          "execution_count": 47
        }
      ],
      "source": [
        "df[\"Monthly_Balance\"].value_counts()"
      ]
    },
    {
      "cell_type": "markdown",
      "source": [
        "<ul> Notes and changes <ul/>\n",
        "    <li> The string \"__-333333333333333333333333333__\" is consider erronous and is coded as None </li>\n",
        "    <li> The variable is casted as numeric </li>\n"
      ],
      "metadata": {
        "id": "Cp2RcbrpDuce"
      },
      "id": "Cp2RcbrpDuce"
    },
    {
      "cell_type": "code",
      "execution_count": 48,
      "id": "32f13732",
      "metadata": {
        "id": "32f13732"
      },
      "outputs": [],
      "source": [
        "for i in range(len(df)):\n",
        "    if df[\"Monthly_Balance\"][i] == \"__-333333333333333333333333333__\":\n",
        "        df[\"Monthly_Balance\"][i] = None"
      ]
    },
    {
      "cell_type": "code",
      "execution_count": 49,
      "id": "fb6c8a9c",
      "metadata": {
        "id": "fb6c8a9c"
      },
      "outputs": [],
      "source": [
        "df[\"Monthly_Balance\"] = pd.to_numeric(df[\"Monthly_Balance\"])"
      ]
    },
    {
      "cell_type": "code",
      "execution_count": 50,
      "id": "d6fc7ffb",
      "metadata": {
        "colab": {
          "base_uri": "https://localhost:8080/"
        },
        "id": "d6fc7ffb",
        "outputId": "8206178d-61a5-40b8-90c8-82f4c6f35fe5"
      },
      "outputs": [
        {
          "output_type": "stream",
          "name": "stdout",
          "text": [
            "<class 'pandas.core.frame.DataFrame'>\n",
            "RangeIndex: 100000 entries, 0 to 99999\n",
            "Data columns (total 24 columns):\n",
            " #   Column                    Non-Null Count   Dtype  \n",
            "---  ------                    --------------   -----  \n",
            " 0   Month                     100000 non-null  object \n",
            " 1   Age                       91518 non-null   float64\n",
            " 2   Occupation                100000 non-null  object \n",
            " 3   Annual_Income             100000 non-null  float64\n",
            " 4   Monthly_Inhand_Salary     84998 non-null   float64\n",
            " 5   Num_Bank_Accounts         98754 non-null   float64\n",
            " 6   Num_Credit_Card           97870 non-null   float64\n",
            " 7   Interest_Rate             97988 non-null   float64\n",
            " 8   Num_of_Loan               95670 non-null   float64\n",
            " 9   Type_of_Loan              88592 non-null   object \n",
            " 10  Delay_from_due_date       100000 non-null  int64  \n",
            " 11  Num_of_Delayed_Payment    92998 non-null   float64\n",
            " 12  Changed_Credit_Limit      97909 non-null   object \n",
            " 13  Num_Credit_Inquiries      98035 non-null   float64\n",
            " 14  Credit_Mix                79805 non-null   object \n",
            " 15  Outstanding_Debt          100000 non-null  float64\n",
            " 16  Credit_Utilization_Ratio  100000 non-null  float64\n",
            " 17  Credit_History_Age        100000 non-null  int64  \n",
            " 18  Payment_of_Min_Amount     100000 non-null  object \n",
            " 19  Total_EMI_per_month       100000 non-null  float64\n",
            " 20  Amount_invested_monthly   95521 non-null   float64\n",
            " 21  Payment_Behaviour         100000 non-null  object \n",
            " 22  Monthly_Balance           98791 non-null   float64\n",
            " 23  Credit_Score              100000 non-null  object \n",
            "dtypes: float64(14), int64(2), object(8)\n",
            "memory usage: 18.3+ MB\n"
          ]
        }
      ],
      "source": [
        "df.info()"
      ]
    },
    {
      "cell_type": "code",
      "execution_count": 51,
      "id": "05c9878a",
      "metadata": {
        "colab": {
          "base_uri": "https://localhost:8080/",
          "height": 560
        },
        "id": "05c9878a",
        "outputId": "56785041-275b-4d95-dcd2-eb795a290970"
      },
      "outputs": [
        {
          "output_type": "execute_result",
          "data": {
            "text/plain": [
              "      Month   Age Occupation  Annual_Income  Monthly_Inhand_Salary  \\\n",
              "0   January  23.0  Scientist       19114.12            1824.843333   \n",
              "1  February  23.0  Scientist       19114.12                    NaN   \n",
              "2     March   NaN  Scientist       19114.12                    NaN   \n",
              "3     April  23.0  Scientist       19114.12                    NaN   \n",
              "4       May  23.0  Scientist       19114.12            1824.843333   \n",
              "\n",
              "   Num_Bank_Accounts  Num_Credit_Card  Interest_Rate  Num_of_Loan  \\\n",
              "0                3.0              4.0            3.0          4.0   \n",
              "1                3.0              4.0            3.0          4.0   \n",
              "2                3.0              4.0            3.0          4.0   \n",
              "3                3.0              4.0            3.0          4.0   \n",
              "4                3.0              4.0            3.0          4.0   \n",
              "\n",
              "                                        Type_of_Loan  ...  Credit_Mix  \\\n",
              "0  Auto Loan, Credit-Builder Loan, Personal Loan,...  ...        None   \n",
              "1  Auto Loan, Credit-Builder Loan, Personal Loan,...  ...        Good   \n",
              "2  Auto Loan, Credit-Builder Loan, Personal Loan,...  ...        Good   \n",
              "3  Auto Loan, Credit-Builder Loan, Personal Loan,...  ...        Good   \n",
              "4  Auto Loan, Credit-Builder Loan, Personal Loan,...  ...        Good   \n",
              "\n",
              "   Outstanding_Debt Credit_Utilization_Ratio  Credit_History_Age  \\\n",
              "0            809.98                26.822620                 265   \n",
              "1            809.98                31.944960                   0   \n",
              "2            809.98                28.609352                 267   \n",
              "3            809.98                31.377862                 268   \n",
              "4            809.98                24.797347                 269   \n",
              "\n",
              "  Payment_of_Min_Amount  Total_EMI_per_month  Amount_invested_monthly  \\\n",
              "0                    No            49.574949                80.415295   \n",
              "1                    No            49.574949               118.280222   \n",
              "2                    No            49.574949                81.699521   \n",
              "3                    No            49.574949               199.458074   \n",
              "4                    No            49.574949                41.420153   \n",
              "\n",
              "                  Payment_Behaviour Monthly_Balance  Credit_Score  \n",
              "0   High_spent_Small_value_payments      312.494089          Good  \n",
              "1    Low_spent_Large_value_payments      284.629162          Good  \n",
              "2   Low_spent_Medium_value_payments      331.209863          Good  \n",
              "3    Low_spent_Small_value_payments      223.451310          Good  \n",
              "4  High_spent_Medium_value_payments      341.489231          Good  \n",
              "\n",
              "[5 rows x 24 columns]"
            ],
            "text/html": [
              "\n",
              "  <div id=\"df-d762082d-335f-48ca-8df2-23e3a52d50b0\">\n",
              "    <div class=\"colab-df-container\">\n",
              "      <div>\n",
              "<style scoped>\n",
              "    .dataframe tbody tr th:only-of-type {\n",
              "        vertical-align: middle;\n",
              "    }\n",
              "\n",
              "    .dataframe tbody tr th {\n",
              "        vertical-align: top;\n",
              "    }\n",
              "\n",
              "    .dataframe thead th {\n",
              "        text-align: right;\n",
              "    }\n",
              "</style>\n",
              "<table border=\"1\" class=\"dataframe\">\n",
              "  <thead>\n",
              "    <tr style=\"text-align: right;\">\n",
              "      <th></th>\n",
              "      <th>Month</th>\n",
              "      <th>Age</th>\n",
              "      <th>Occupation</th>\n",
              "      <th>Annual_Income</th>\n",
              "      <th>Monthly_Inhand_Salary</th>\n",
              "      <th>Num_Bank_Accounts</th>\n",
              "      <th>Num_Credit_Card</th>\n",
              "      <th>Interest_Rate</th>\n",
              "      <th>Num_of_Loan</th>\n",
              "      <th>Type_of_Loan</th>\n",
              "      <th>...</th>\n",
              "      <th>Credit_Mix</th>\n",
              "      <th>Outstanding_Debt</th>\n",
              "      <th>Credit_Utilization_Ratio</th>\n",
              "      <th>Credit_History_Age</th>\n",
              "      <th>Payment_of_Min_Amount</th>\n",
              "      <th>Total_EMI_per_month</th>\n",
              "      <th>Amount_invested_monthly</th>\n",
              "      <th>Payment_Behaviour</th>\n",
              "      <th>Monthly_Balance</th>\n",
              "      <th>Credit_Score</th>\n",
              "    </tr>\n",
              "  </thead>\n",
              "  <tbody>\n",
              "    <tr>\n",
              "      <th>0</th>\n",
              "      <td>January</td>\n",
              "      <td>23.0</td>\n",
              "      <td>Scientist</td>\n",
              "      <td>19114.12</td>\n",
              "      <td>1824.843333</td>\n",
              "      <td>3.0</td>\n",
              "      <td>4.0</td>\n",
              "      <td>3.0</td>\n",
              "      <td>4.0</td>\n",
              "      <td>Auto Loan, Credit-Builder Loan, Personal Loan,...</td>\n",
              "      <td>...</td>\n",
              "      <td>None</td>\n",
              "      <td>809.98</td>\n",
              "      <td>26.822620</td>\n",
              "      <td>265</td>\n",
              "      <td>No</td>\n",
              "      <td>49.574949</td>\n",
              "      <td>80.415295</td>\n",
              "      <td>High_spent_Small_value_payments</td>\n",
              "      <td>312.494089</td>\n",
              "      <td>Good</td>\n",
              "    </tr>\n",
              "    <tr>\n",
              "      <th>1</th>\n",
              "      <td>February</td>\n",
              "      <td>23.0</td>\n",
              "      <td>Scientist</td>\n",
              "      <td>19114.12</td>\n",
              "      <td>NaN</td>\n",
              "      <td>3.0</td>\n",
              "      <td>4.0</td>\n",
              "      <td>3.0</td>\n",
              "      <td>4.0</td>\n",
              "      <td>Auto Loan, Credit-Builder Loan, Personal Loan,...</td>\n",
              "      <td>...</td>\n",
              "      <td>Good</td>\n",
              "      <td>809.98</td>\n",
              "      <td>31.944960</td>\n",
              "      <td>0</td>\n",
              "      <td>No</td>\n",
              "      <td>49.574949</td>\n",
              "      <td>118.280222</td>\n",
              "      <td>Low_spent_Large_value_payments</td>\n",
              "      <td>284.629162</td>\n",
              "      <td>Good</td>\n",
              "    </tr>\n",
              "    <tr>\n",
              "      <th>2</th>\n",
              "      <td>March</td>\n",
              "      <td>NaN</td>\n",
              "      <td>Scientist</td>\n",
              "      <td>19114.12</td>\n",
              "      <td>NaN</td>\n",
              "      <td>3.0</td>\n",
              "      <td>4.0</td>\n",
              "      <td>3.0</td>\n",
              "      <td>4.0</td>\n",
              "      <td>Auto Loan, Credit-Builder Loan, Personal Loan,...</td>\n",
              "      <td>...</td>\n",
              "      <td>Good</td>\n",
              "      <td>809.98</td>\n",
              "      <td>28.609352</td>\n",
              "      <td>267</td>\n",
              "      <td>No</td>\n",
              "      <td>49.574949</td>\n",
              "      <td>81.699521</td>\n",
              "      <td>Low_spent_Medium_value_payments</td>\n",
              "      <td>331.209863</td>\n",
              "      <td>Good</td>\n",
              "    </tr>\n",
              "    <tr>\n",
              "      <th>3</th>\n",
              "      <td>April</td>\n",
              "      <td>23.0</td>\n",
              "      <td>Scientist</td>\n",
              "      <td>19114.12</td>\n",
              "      <td>NaN</td>\n",
              "      <td>3.0</td>\n",
              "      <td>4.0</td>\n",
              "      <td>3.0</td>\n",
              "      <td>4.0</td>\n",
              "      <td>Auto Loan, Credit-Builder Loan, Personal Loan,...</td>\n",
              "      <td>...</td>\n",
              "      <td>Good</td>\n",
              "      <td>809.98</td>\n",
              "      <td>31.377862</td>\n",
              "      <td>268</td>\n",
              "      <td>No</td>\n",
              "      <td>49.574949</td>\n",
              "      <td>199.458074</td>\n",
              "      <td>Low_spent_Small_value_payments</td>\n",
              "      <td>223.451310</td>\n",
              "      <td>Good</td>\n",
              "    </tr>\n",
              "    <tr>\n",
              "      <th>4</th>\n",
              "      <td>May</td>\n",
              "      <td>23.0</td>\n",
              "      <td>Scientist</td>\n",
              "      <td>19114.12</td>\n",
              "      <td>1824.843333</td>\n",
              "      <td>3.0</td>\n",
              "      <td>4.0</td>\n",
              "      <td>3.0</td>\n",
              "      <td>4.0</td>\n",
              "      <td>Auto Loan, Credit-Builder Loan, Personal Loan,...</td>\n",
              "      <td>...</td>\n",
              "      <td>Good</td>\n",
              "      <td>809.98</td>\n",
              "      <td>24.797347</td>\n",
              "      <td>269</td>\n",
              "      <td>No</td>\n",
              "      <td>49.574949</td>\n",
              "      <td>41.420153</td>\n",
              "      <td>High_spent_Medium_value_payments</td>\n",
              "      <td>341.489231</td>\n",
              "      <td>Good</td>\n",
              "    </tr>\n",
              "  </tbody>\n",
              "</table>\n",
              "<p>5 rows × 24 columns</p>\n",
              "</div>\n",
              "      <button class=\"colab-df-convert\" onclick=\"convertToInteractive('df-d762082d-335f-48ca-8df2-23e3a52d50b0')\"\n",
              "              title=\"Convert this dataframe to an interactive table.\"\n",
              "              style=\"display:none;\">\n",
              "        \n",
              "  <svg xmlns=\"http://www.w3.org/2000/svg\" height=\"24px\"viewBox=\"0 0 24 24\"\n",
              "       width=\"24px\">\n",
              "    <path d=\"M0 0h24v24H0V0z\" fill=\"none\"/>\n",
              "    <path d=\"M18.56 5.44l.94 2.06.94-2.06 2.06-.94-2.06-.94-.94-2.06-.94 2.06-2.06.94zm-11 1L8.5 8.5l.94-2.06 2.06-.94-2.06-.94L8.5 2.5l-.94 2.06-2.06.94zm10 10l.94 2.06.94-2.06 2.06-.94-2.06-.94-.94-2.06-.94 2.06-2.06.94z\"/><path d=\"M17.41 7.96l-1.37-1.37c-.4-.4-.92-.59-1.43-.59-.52 0-1.04.2-1.43.59L10.3 9.45l-7.72 7.72c-.78.78-.78 2.05 0 2.83L4 21.41c.39.39.9.59 1.41.59.51 0 1.02-.2 1.41-.59l7.78-7.78 2.81-2.81c.8-.78.8-2.07 0-2.86zM5.41 20L4 18.59l7.72-7.72 1.47 1.35L5.41 20z\"/>\n",
              "  </svg>\n",
              "      </button>\n",
              "      \n",
              "  <style>\n",
              "    .colab-df-container {\n",
              "      display:flex;\n",
              "      flex-wrap:wrap;\n",
              "      gap: 12px;\n",
              "    }\n",
              "\n",
              "    .colab-df-convert {\n",
              "      background-color: #E8F0FE;\n",
              "      border: none;\n",
              "      border-radius: 50%;\n",
              "      cursor: pointer;\n",
              "      display: none;\n",
              "      fill: #1967D2;\n",
              "      height: 32px;\n",
              "      padding: 0 0 0 0;\n",
              "      width: 32px;\n",
              "    }\n",
              "\n",
              "    .colab-df-convert:hover {\n",
              "      background-color: #E2EBFA;\n",
              "      box-shadow: 0px 1px 2px rgba(60, 64, 67, 0.3), 0px 1px 3px 1px rgba(60, 64, 67, 0.15);\n",
              "      fill: #174EA6;\n",
              "    }\n",
              "\n",
              "    [theme=dark] .colab-df-convert {\n",
              "      background-color: #3B4455;\n",
              "      fill: #D2E3FC;\n",
              "    }\n",
              "\n",
              "    [theme=dark] .colab-df-convert:hover {\n",
              "      background-color: #434B5C;\n",
              "      box-shadow: 0px 1px 3px 1px rgba(0, 0, 0, 0.15);\n",
              "      filter: drop-shadow(0px 1px 2px rgba(0, 0, 0, 0.3));\n",
              "      fill: #FFFFFF;\n",
              "    }\n",
              "  </style>\n",
              "\n",
              "      <script>\n",
              "        const buttonEl =\n",
              "          document.querySelector('#df-d762082d-335f-48ca-8df2-23e3a52d50b0 button.colab-df-convert');\n",
              "        buttonEl.style.display =\n",
              "          google.colab.kernel.accessAllowed ? 'block' : 'none';\n",
              "\n",
              "        async function convertToInteractive(key) {\n",
              "          const element = document.querySelector('#df-d762082d-335f-48ca-8df2-23e3a52d50b0');\n",
              "          const dataTable =\n",
              "            await google.colab.kernel.invokeFunction('convertToInteractive',\n",
              "                                                     [key], {});\n",
              "          if (!dataTable) return;\n",
              "\n",
              "          const docLinkHtml = 'Like what you see? Visit the ' +\n",
              "            '<a target=\"_blank\" href=https://colab.research.google.com/notebooks/data_table.ipynb>data table notebook</a>'\n",
              "            + ' to learn more about interactive tables.';\n",
              "          element.innerHTML = '';\n",
              "          dataTable['output_type'] = 'display_data';\n",
              "          await google.colab.output.renderOutput(dataTable, element);\n",
              "          const docLink = document.createElement('div');\n",
              "          docLink.innerHTML = docLinkHtml;\n",
              "          element.appendChild(docLink);\n",
              "        }\n",
              "      </script>\n",
              "    </div>\n",
              "  </div>\n",
              "  "
            ]
          },
          "metadata": {},
          "execution_count": 51
        }
      ],
      "source": [
        "df.head()"
      ]
    },
    {
      "cell_type": "code",
      "execution_count": 52,
      "id": "41ec9cc8",
      "metadata": {
        "id": "41ec9cc8"
      },
      "outputs": [],
      "source": [
        "# Recoding Credit_score to :\n",
        "# Poor - 0 : Standard - 1 : Good - 2\n",
        "\n",
        "scale_mapper = {\"Poor\":0, \"Standard\":1, \"Good\":2}\n",
        "df[\"Credit_Score\"] = df[\"Credit_Score\"].replace(scale_mapper)"
      ]
    },
    {
      "cell_type": "code",
      "execution_count": 53,
      "id": "2411b99e",
      "metadata": {
        "colab": {
          "base_uri": "https://localhost:8080/",
          "height": 560
        },
        "id": "2411b99e",
        "outputId": "2f8acba1-a47b-4b1e-b4bf-9dc1e4d4a458"
      },
      "outputs": [
        {
          "output_type": "execute_result",
          "data": {
            "text/plain": [
              "      Month   Age Occupation  Annual_Income  Monthly_Inhand_Salary  \\\n",
              "0   January  23.0  Scientist       19114.12            1824.843333   \n",
              "1  February  23.0  Scientist       19114.12                    NaN   \n",
              "2     March   NaN  Scientist       19114.12                    NaN   \n",
              "3     April  23.0  Scientist       19114.12                    NaN   \n",
              "4       May  23.0  Scientist       19114.12            1824.843333   \n",
              "\n",
              "   Num_Bank_Accounts  Num_Credit_Card  Interest_Rate  Num_of_Loan  \\\n",
              "0                3.0              4.0            3.0          4.0   \n",
              "1                3.0              4.0            3.0          4.0   \n",
              "2                3.0              4.0            3.0          4.0   \n",
              "3                3.0              4.0            3.0          4.0   \n",
              "4                3.0              4.0            3.0          4.0   \n",
              "\n",
              "                                        Type_of_Loan  ...  Credit_Mix  \\\n",
              "0  Auto Loan, Credit-Builder Loan, Personal Loan,...  ...        None   \n",
              "1  Auto Loan, Credit-Builder Loan, Personal Loan,...  ...        Good   \n",
              "2  Auto Loan, Credit-Builder Loan, Personal Loan,...  ...        Good   \n",
              "3  Auto Loan, Credit-Builder Loan, Personal Loan,...  ...        Good   \n",
              "4  Auto Loan, Credit-Builder Loan, Personal Loan,...  ...        Good   \n",
              "\n",
              "   Outstanding_Debt Credit_Utilization_Ratio  Credit_History_Age  \\\n",
              "0            809.98                26.822620                 265   \n",
              "1            809.98                31.944960                   0   \n",
              "2            809.98                28.609352                 267   \n",
              "3            809.98                31.377862                 268   \n",
              "4            809.98                24.797347                 269   \n",
              "\n",
              "  Payment_of_Min_Amount  Total_EMI_per_month  Amount_invested_monthly  \\\n",
              "0                    No            49.574949                80.415295   \n",
              "1                    No            49.574949               118.280222   \n",
              "2                    No            49.574949                81.699521   \n",
              "3                    No            49.574949               199.458074   \n",
              "4                    No            49.574949                41.420153   \n",
              "\n",
              "                  Payment_Behaviour Monthly_Balance  Credit_Score  \n",
              "0   High_spent_Small_value_payments      312.494089             2  \n",
              "1    Low_spent_Large_value_payments      284.629162             2  \n",
              "2   Low_spent_Medium_value_payments      331.209863             2  \n",
              "3    Low_spent_Small_value_payments      223.451310             2  \n",
              "4  High_spent_Medium_value_payments      341.489231             2  \n",
              "\n",
              "[5 rows x 24 columns]"
            ],
            "text/html": [
              "\n",
              "  <div id=\"df-af45be4c-f527-4ebc-a890-815a35e15e34\">\n",
              "    <div class=\"colab-df-container\">\n",
              "      <div>\n",
              "<style scoped>\n",
              "    .dataframe tbody tr th:only-of-type {\n",
              "        vertical-align: middle;\n",
              "    }\n",
              "\n",
              "    .dataframe tbody tr th {\n",
              "        vertical-align: top;\n",
              "    }\n",
              "\n",
              "    .dataframe thead th {\n",
              "        text-align: right;\n",
              "    }\n",
              "</style>\n",
              "<table border=\"1\" class=\"dataframe\">\n",
              "  <thead>\n",
              "    <tr style=\"text-align: right;\">\n",
              "      <th></th>\n",
              "      <th>Month</th>\n",
              "      <th>Age</th>\n",
              "      <th>Occupation</th>\n",
              "      <th>Annual_Income</th>\n",
              "      <th>Monthly_Inhand_Salary</th>\n",
              "      <th>Num_Bank_Accounts</th>\n",
              "      <th>Num_Credit_Card</th>\n",
              "      <th>Interest_Rate</th>\n",
              "      <th>Num_of_Loan</th>\n",
              "      <th>Type_of_Loan</th>\n",
              "      <th>...</th>\n",
              "      <th>Credit_Mix</th>\n",
              "      <th>Outstanding_Debt</th>\n",
              "      <th>Credit_Utilization_Ratio</th>\n",
              "      <th>Credit_History_Age</th>\n",
              "      <th>Payment_of_Min_Amount</th>\n",
              "      <th>Total_EMI_per_month</th>\n",
              "      <th>Amount_invested_monthly</th>\n",
              "      <th>Payment_Behaviour</th>\n",
              "      <th>Monthly_Balance</th>\n",
              "      <th>Credit_Score</th>\n",
              "    </tr>\n",
              "  </thead>\n",
              "  <tbody>\n",
              "    <tr>\n",
              "      <th>0</th>\n",
              "      <td>January</td>\n",
              "      <td>23.0</td>\n",
              "      <td>Scientist</td>\n",
              "      <td>19114.12</td>\n",
              "      <td>1824.843333</td>\n",
              "      <td>3.0</td>\n",
              "      <td>4.0</td>\n",
              "      <td>3.0</td>\n",
              "      <td>4.0</td>\n",
              "      <td>Auto Loan, Credit-Builder Loan, Personal Loan,...</td>\n",
              "      <td>...</td>\n",
              "      <td>None</td>\n",
              "      <td>809.98</td>\n",
              "      <td>26.822620</td>\n",
              "      <td>265</td>\n",
              "      <td>No</td>\n",
              "      <td>49.574949</td>\n",
              "      <td>80.415295</td>\n",
              "      <td>High_spent_Small_value_payments</td>\n",
              "      <td>312.494089</td>\n",
              "      <td>2</td>\n",
              "    </tr>\n",
              "    <tr>\n",
              "      <th>1</th>\n",
              "      <td>February</td>\n",
              "      <td>23.0</td>\n",
              "      <td>Scientist</td>\n",
              "      <td>19114.12</td>\n",
              "      <td>NaN</td>\n",
              "      <td>3.0</td>\n",
              "      <td>4.0</td>\n",
              "      <td>3.0</td>\n",
              "      <td>4.0</td>\n",
              "      <td>Auto Loan, Credit-Builder Loan, Personal Loan,...</td>\n",
              "      <td>...</td>\n",
              "      <td>Good</td>\n",
              "      <td>809.98</td>\n",
              "      <td>31.944960</td>\n",
              "      <td>0</td>\n",
              "      <td>No</td>\n",
              "      <td>49.574949</td>\n",
              "      <td>118.280222</td>\n",
              "      <td>Low_spent_Large_value_payments</td>\n",
              "      <td>284.629162</td>\n",
              "      <td>2</td>\n",
              "    </tr>\n",
              "    <tr>\n",
              "      <th>2</th>\n",
              "      <td>March</td>\n",
              "      <td>NaN</td>\n",
              "      <td>Scientist</td>\n",
              "      <td>19114.12</td>\n",
              "      <td>NaN</td>\n",
              "      <td>3.0</td>\n",
              "      <td>4.0</td>\n",
              "      <td>3.0</td>\n",
              "      <td>4.0</td>\n",
              "      <td>Auto Loan, Credit-Builder Loan, Personal Loan,...</td>\n",
              "      <td>...</td>\n",
              "      <td>Good</td>\n",
              "      <td>809.98</td>\n",
              "      <td>28.609352</td>\n",
              "      <td>267</td>\n",
              "      <td>No</td>\n",
              "      <td>49.574949</td>\n",
              "      <td>81.699521</td>\n",
              "      <td>Low_spent_Medium_value_payments</td>\n",
              "      <td>331.209863</td>\n",
              "      <td>2</td>\n",
              "    </tr>\n",
              "    <tr>\n",
              "      <th>3</th>\n",
              "      <td>April</td>\n",
              "      <td>23.0</td>\n",
              "      <td>Scientist</td>\n",
              "      <td>19114.12</td>\n",
              "      <td>NaN</td>\n",
              "      <td>3.0</td>\n",
              "      <td>4.0</td>\n",
              "      <td>3.0</td>\n",
              "      <td>4.0</td>\n",
              "      <td>Auto Loan, Credit-Builder Loan, Personal Loan,...</td>\n",
              "      <td>...</td>\n",
              "      <td>Good</td>\n",
              "      <td>809.98</td>\n",
              "      <td>31.377862</td>\n",
              "      <td>268</td>\n",
              "      <td>No</td>\n",
              "      <td>49.574949</td>\n",
              "      <td>199.458074</td>\n",
              "      <td>Low_spent_Small_value_payments</td>\n",
              "      <td>223.451310</td>\n",
              "      <td>2</td>\n",
              "    </tr>\n",
              "    <tr>\n",
              "      <th>4</th>\n",
              "      <td>May</td>\n",
              "      <td>23.0</td>\n",
              "      <td>Scientist</td>\n",
              "      <td>19114.12</td>\n",
              "      <td>1824.843333</td>\n",
              "      <td>3.0</td>\n",
              "      <td>4.0</td>\n",
              "      <td>3.0</td>\n",
              "      <td>4.0</td>\n",
              "      <td>Auto Loan, Credit-Builder Loan, Personal Loan,...</td>\n",
              "      <td>...</td>\n",
              "      <td>Good</td>\n",
              "      <td>809.98</td>\n",
              "      <td>24.797347</td>\n",
              "      <td>269</td>\n",
              "      <td>No</td>\n",
              "      <td>49.574949</td>\n",
              "      <td>41.420153</td>\n",
              "      <td>High_spent_Medium_value_payments</td>\n",
              "      <td>341.489231</td>\n",
              "      <td>2</td>\n",
              "    </tr>\n",
              "  </tbody>\n",
              "</table>\n",
              "<p>5 rows × 24 columns</p>\n",
              "</div>\n",
              "      <button class=\"colab-df-convert\" onclick=\"convertToInteractive('df-af45be4c-f527-4ebc-a890-815a35e15e34')\"\n",
              "              title=\"Convert this dataframe to an interactive table.\"\n",
              "              style=\"display:none;\">\n",
              "        \n",
              "  <svg xmlns=\"http://www.w3.org/2000/svg\" height=\"24px\"viewBox=\"0 0 24 24\"\n",
              "       width=\"24px\">\n",
              "    <path d=\"M0 0h24v24H0V0z\" fill=\"none\"/>\n",
              "    <path d=\"M18.56 5.44l.94 2.06.94-2.06 2.06-.94-2.06-.94-.94-2.06-.94 2.06-2.06.94zm-11 1L8.5 8.5l.94-2.06 2.06-.94-2.06-.94L8.5 2.5l-.94 2.06-2.06.94zm10 10l.94 2.06.94-2.06 2.06-.94-2.06-.94-.94-2.06-.94 2.06-2.06.94z\"/><path d=\"M17.41 7.96l-1.37-1.37c-.4-.4-.92-.59-1.43-.59-.52 0-1.04.2-1.43.59L10.3 9.45l-7.72 7.72c-.78.78-.78 2.05 0 2.83L4 21.41c.39.39.9.59 1.41.59.51 0 1.02-.2 1.41-.59l7.78-7.78 2.81-2.81c.8-.78.8-2.07 0-2.86zM5.41 20L4 18.59l7.72-7.72 1.47 1.35L5.41 20z\"/>\n",
              "  </svg>\n",
              "      </button>\n",
              "      \n",
              "  <style>\n",
              "    .colab-df-container {\n",
              "      display:flex;\n",
              "      flex-wrap:wrap;\n",
              "      gap: 12px;\n",
              "    }\n",
              "\n",
              "    .colab-df-convert {\n",
              "      background-color: #E8F0FE;\n",
              "      border: none;\n",
              "      border-radius: 50%;\n",
              "      cursor: pointer;\n",
              "      display: none;\n",
              "      fill: #1967D2;\n",
              "      height: 32px;\n",
              "      padding: 0 0 0 0;\n",
              "      width: 32px;\n",
              "    }\n",
              "\n",
              "    .colab-df-convert:hover {\n",
              "      background-color: #E2EBFA;\n",
              "      box-shadow: 0px 1px 2px rgba(60, 64, 67, 0.3), 0px 1px 3px 1px rgba(60, 64, 67, 0.15);\n",
              "      fill: #174EA6;\n",
              "    }\n",
              "\n",
              "    [theme=dark] .colab-df-convert {\n",
              "      background-color: #3B4455;\n",
              "      fill: #D2E3FC;\n",
              "    }\n",
              "\n",
              "    [theme=dark] .colab-df-convert:hover {\n",
              "      background-color: #434B5C;\n",
              "      box-shadow: 0px 1px 3px 1px rgba(0, 0, 0, 0.15);\n",
              "      filter: drop-shadow(0px 1px 2px rgba(0, 0, 0, 0.3));\n",
              "      fill: #FFFFFF;\n",
              "    }\n",
              "  </style>\n",
              "\n",
              "      <script>\n",
              "        const buttonEl =\n",
              "          document.querySelector('#df-af45be4c-f527-4ebc-a890-815a35e15e34 button.colab-df-convert');\n",
              "        buttonEl.style.display =\n",
              "          google.colab.kernel.accessAllowed ? 'block' : 'none';\n",
              "\n",
              "        async function convertToInteractive(key) {\n",
              "          const element = document.querySelector('#df-af45be4c-f527-4ebc-a890-815a35e15e34');\n",
              "          const dataTable =\n",
              "            await google.colab.kernel.invokeFunction('convertToInteractive',\n",
              "                                                     [key], {});\n",
              "          if (!dataTable) return;\n",
              "\n",
              "          const docLinkHtml = 'Like what you see? Visit the ' +\n",
              "            '<a target=\"_blank\" href=https://colab.research.google.com/notebooks/data_table.ipynb>data table notebook</a>'\n",
              "            + ' to learn more about interactive tables.';\n",
              "          element.innerHTML = '';\n",
              "          dataTable['output_type'] = 'display_data';\n",
              "          await google.colab.output.renderOutput(dataTable, element);\n",
              "          const docLink = document.createElement('div');\n",
              "          docLink.innerHTML = docLinkHtml;\n",
              "          element.appendChild(docLink);\n",
              "        }\n",
              "      </script>\n",
              "    </div>\n",
              "  </div>\n",
              "  "
            ]
          },
          "metadata": {},
          "execution_count": 53
        }
      ],
      "source": [
        "df.head()"
      ]
    },
    {
      "cell_type": "code",
      "execution_count": 54,
      "id": "89477153",
      "metadata": {
        "colab": {
          "base_uri": "https://localhost:8080/"
        },
        "id": "89477153",
        "outputId": "68a5f8a4-fd90-4341-c74e-5bd5243f87e4"
      },
      "outputs": [
        {
          "output_type": "execute_result",
          "data": {
            "text/plain": [
              "Month                        object\n",
              "Age                         float64\n",
              "Occupation                   object\n",
              "Annual_Income               float64\n",
              "Monthly_Inhand_Salary       float64\n",
              "Num_Bank_Accounts           float64\n",
              "Num_Credit_Card             float64\n",
              "Interest_Rate               float64\n",
              "Num_of_Loan                 float64\n",
              "Type_of_Loan                 object\n",
              "Delay_from_due_date           int64\n",
              "Num_of_Delayed_Payment      float64\n",
              "Changed_Credit_Limit         object\n",
              "Num_Credit_Inquiries        float64\n",
              "Credit_Mix                   object\n",
              "Outstanding_Debt            float64\n",
              "Credit_Utilization_Ratio    float64\n",
              "Credit_History_Age            int64\n",
              "Payment_of_Min_Amount        object\n",
              "Total_EMI_per_month         float64\n",
              "Amount_invested_monthly     float64\n",
              "Payment_Behaviour            object\n",
              "Monthly_Balance             float64\n",
              "Credit_Score                  int64\n",
              "dtype: object"
            ]
          },
          "metadata": {},
          "execution_count": 54
        }
      ],
      "source": [
        "df.dtypes"
      ]
    },
    {
      "cell_type": "code",
      "execution_count": 55,
      "id": "008d20af",
      "metadata": {
        "colab": {
          "base_uri": "https://localhost:8080/"
        },
        "id": "008d20af",
        "outputId": "60471d3a-3434-4711-d253-eecaabade74e"
      },
      "outputs": [
        {
          "output_type": "execute_result",
          "data": {
            "text/plain": [
              "Month                       100000\n",
              "Age                          91518\n",
              "Occupation                  100000\n",
              "Annual_Income               100000\n",
              "Monthly_Inhand_Salary        84998\n",
              "Num_Bank_Accounts            98754\n",
              "Num_Credit_Card              97870\n",
              "Interest_Rate                97988\n",
              "Num_of_Loan                  95670\n",
              "Type_of_Loan                 88592\n",
              "Delay_from_due_date         100000\n",
              "Num_of_Delayed_Payment       92998\n",
              "Changed_Credit_Limit         97909\n",
              "Num_Credit_Inquiries         98035\n",
              "Credit_Mix                   79805\n",
              "Outstanding_Debt            100000\n",
              "Credit_Utilization_Ratio    100000\n",
              "Credit_History_Age          100000\n",
              "Payment_of_Min_Amount       100000\n",
              "Total_EMI_per_month         100000\n",
              "Amount_invested_monthly      95521\n",
              "Payment_Behaviour           100000\n",
              "Monthly_Balance              98791\n",
              "Credit_Score                100000\n",
              "dtype: int64"
            ]
          },
          "metadata": {},
          "execution_count": 55
        }
      ],
      "source": [
        "df.count()"
      ]
    },
    {
      "cell_type": "code",
      "execution_count": 56,
      "id": "ffc15acd",
      "metadata": {
        "colab": {
          "base_uri": "https://localhost:8080/"
        },
        "id": "ffc15acd",
        "outputId": "db0d607e-0b0a-494f-fdcb-bfab1a4f17f7"
      },
      "outputs": [
        {
          "output_type": "execute_result",
          "data": {
            "text/plain": [
              "Month                           0\n",
              "Age                          8482\n",
              "Occupation                      0\n",
              "Annual_Income                   0\n",
              "Monthly_Inhand_Salary       15002\n",
              "Num_Bank_Accounts            1246\n",
              "Num_Credit_Card              2130\n",
              "Interest_Rate                2012\n",
              "Num_of_Loan                  4330\n",
              "Type_of_Loan                11408\n",
              "Delay_from_due_date             0\n",
              "Num_of_Delayed_Payment       7002\n",
              "Changed_Credit_Limit         2091\n",
              "Num_Credit_Inquiries         1965\n",
              "Credit_Mix                  20195\n",
              "Outstanding_Debt                0\n",
              "Credit_Utilization_Ratio        0\n",
              "Credit_History_Age              0\n",
              "Payment_of_Min_Amount           0\n",
              "Total_EMI_per_month             0\n",
              "Amount_invested_monthly      4479\n",
              "Payment_Behaviour               0\n",
              "Monthly_Balance              1209\n",
              "Credit_Score                    0\n",
              "dtype: int64"
            ]
          },
          "metadata": {},
          "execution_count": 56
        }
      ],
      "source": [
        "df.isna().sum()"
      ]
    },
    {
      "cell_type": "code",
      "execution_count": 58,
      "id": "f04a50a2",
      "metadata": {
        "id": "f04a50a2"
      },
      "outputs": [],
      "source": [
        "data_set=df"
      ]
    },
    {
      "cell_type": "code",
      "execution_count": 59,
      "id": "d56fe0ed",
      "metadata": {
        "id": "d56fe0ed"
      },
      "outputs": [],
      "source": [
        "data_set=data_set.fillna(data_set.mean())"
      ]
    },
    {
      "cell_type": "code",
      "execution_count": 60,
      "id": "a5a9ec53",
      "metadata": {
        "colab": {
          "base_uri": "https://localhost:8080/"
        },
        "id": "a5a9ec53",
        "outputId": "12c054db-4c59-402e-d3c2-4360fb0ba564"
      },
      "outputs": [
        {
          "output_type": "execute_result",
          "data": {
            "text/plain": [
              "Month                       100000\n",
              "Age                         100000\n",
              "Occupation                  100000\n",
              "Annual_Income               100000\n",
              "Monthly_Inhand_Salary       100000\n",
              "Num_Bank_Accounts           100000\n",
              "Num_Credit_Card             100000\n",
              "Interest_Rate               100000\n",
              "Num_of_Loan                 100000\n",
              "Type_of_Loan                 88592\n",
              "Delay_from_due_date         100000\n",
              "Num_of_Delayed_Payment      100000\n",
              "Changed_Credit_Limit         97909\n",
              "Num_Credit_Inquiries        100000\n",
              "Credit_Mix                   79805\n",
              "Outstanding_Debt            100000\n",
              "Credit_Utilization_Ratio    100000\n",
              "Credit_History_Age          100000\n",
              "Payment_of_Min_Amount       100000\n",
              "Total_EMI_per_month         100000\n",
              "Amount_invested_monthly     100000\n",
              "Payment_Behaviour           100000\n",
              "Monthly_Balance             100000\n",
              "Credit_Score                100000\n",
              "dtype: int64"
            ]
          },
          "metadata": {},
          "execution_count": 60
        }
      ],
      "source": [
        "data_set.count()"
      ]
    },
    {
      "cell_type": "code",
      "execution_count": 61,
      "id": "945e76bf",
      "metadata": {
        "colab": {
          "base_uri": "https://localhost:8080/",
          "height": 560
        },
        "id": "945e76bf",
        "outputId": "08625ab1-1c67-43f1-bd92-4e164cde11bd"
      },
      "outputs": [
        {
          "output_type": "execute_result",
          "data": {
            "text/plain": [
              "      Month        Age Occupation  Annual_Income  Monthly_Inhand_Salary  \\\n",
              "0   January  23.000000  Scientist       19114.12            1824.843333   \n",
              "1  February  23.000000  Scientist       19114.12            4194.170850   \n",
              "2     March  34.429817  Scientist       19114.12            4194.170850   \n",
              "3     April  23.000000  Scientist       19114.12            4194.170850   \n",
              "4       May  23.000000  Scientist       19114.12            1824.843333   \n",
              "\n",
              "   Num_Bank_Accounts  Num_Credit_Card  Interest_Rate  Num_of_Loan  \\\n",
              "0                3.0              4.0            3.0          4.0   \n",
              "1                3.0              4.0            3.0          4.0   \n",
              "2                3.0              4.0            3.0          4.0   \n",
              "3                3.0              4.0            3.0          4.0   \n",
              "4                3.0              4.0            3.0          4.0   \n",
              "\n",
              "                                        Type_of_Loan  ...  Credit_Mix  \\\n",
              "0  Auto Loan, Credit-Builder Loan, Personal Loan,...  ...        None   \n",
              "1  Auto Loan, Credit-Builder Loan, Personal Loan,...  ...        Good   \n",
              "2  Auto Loan, Credit-Builder Loan, Personal Loan,...  ...        Good   \n",
              "3  Auto Loan, Credit-Builder Loan, Personal Loan,...  ...        Good   \n",
              "4  Auto Loan, Credit-Builder Loan, Personal Loan,...  ...        Good   \n",
              "\n",
              "   Outstanding_Debt Credit_Utilization_Ratio  Credit_History_Age  \\\n",
              "0            809.98                26.822620                 265   \n",
              "1            809.98                31.944960                   0   \n",
              "2            809.98                28.609352                 267   \n",
              "3            809.98                31.377862                 268   \n",
              "4            809.98                24.797347                 269   \n",
              "\n",
              "  Payment_of_Min_Amount  Total_EMI_per_month  Amount_invested_monthly  \\\n",
              "0                    No            49.574949                80.415295   \n",
              "1                    No            49.574949               118.280222   \n",
              "2                    No            49.574949                81.699521   \n",
              "3                    No            49.574949               199.458074   \n",
              "4                    No            49.574949                41.420153   \n",
              "\n",
              "                  Payment_Behaviour Monthly_Balance  Credit_Score  \n",
              "0   High_spent_Small_value_payments      312.494089             2  \n",
              "1    Low_spent_Large_value_payments      284.629162             2  \n",
              "2   Low_spent_Medium_value_payments      331.209863             2  \n",
              "3    Low_spent_Small_value_payments      223.451310             2  \n",
              "4  High_spent_Medium_value_payments      341.489231             2  \n",
              "\n",
              "[5 rows x 24 columns]"
            ],
            "text/html": [
              "\n",
              "  <div id=\"df-9752bc09-2775-4e94-848f-be19884a7d5b\">\n",
              "    <div class=\"colab-df-container\">\n",
              "      <div>\n",
              "<style scoped>\n",
              "    .dataframe tbody tr th:only-of-type {\n",
              "        vertical-align: middle;\n",
              "    }\n",
              "\n",
              "    .dataframe tbody tr th {\n",
              "        vertical-align: top;\n",
              "    }\n",
              "\n",
              "    .dataframe thead th {\n",
              "        text-align: right;\n",
              "    }\n",
              "</style>\n",
              "<table border=\"1\" class=\"dataframe\">\n",
              "  <thead>\n",
              "    <tr style=\"text-align: right;\">\n",
              "      <th></th>\n",
              "      <th>Month</th>\n",
              "      <th>Age</th>\n",
              "      <th>Occupation</th>\n",
              "      <th>Annual_Income</th>\n",
              "      <th>Monthly_Inhand_Salary</th>\n",
              "      <th>Num_Bank_Accounts</th>\n",
              "      <th>Num_Credit_Card</th>\n",
              "      <th>Interest_Rate</th>\n",
              "      <th>Num_of_Loan</th>\n",
              "      <th>Type_of_Loan</th>\n",
              "      <th>...</th>\n",
              "      <th>Credit_Mix</th>\n",
              "      <th>Outstanding_Debt</th>\n",
              "      <th>Credit_Utilization_Ratio</th>\n",
              "      <th>Credit_History_Age</th>\n",
              "      <th>Payment_of_Min_Amount</th>\n",
              "      <th>Total_EMI_per_month</th>\n",
              "      <th>Amount_invested_monthly</th>\n",
              "      <th>Payment_Behaviour</th>\n",
              "      <th>Monthly_Balance</th>\n",
              "      <th>Credit_Score</th>\n",
              "    </tr>\n",
              "  </thead>\n",
              "  <tbody>\n",
              "    <tr>\n",
              "      <th>0</th>\n",
              "      <td>January</td>\n",
              "      <td>23.000000</td>\n",
              "      <td>Scientist</td>\n",
              "      <td>19114.12</td>\n",
              "      <td>1824.843333</td>\n",
              "      <td>3.0</td>\n",
              "      <td>4.0</td>\n",
              "      <td>3.0</td>\n",
              "      <td>4.0</td>\n",
              "      <td>Auto Loan, Credit-Builder Loan, Personal Loan,...</td>\n",
              "      <td>...</td>\n",
              "      <td>None</td>\n",
              "      <td>809.98</td>\n",
              "      <td>26.822620</td>\n",
              "      <td>265</td>\n",
              "      <td>No</td>\n",
              "      <td>49.574949</td>\n",
              "      <td>80.415295</td>\n",
              "      <td>High_spent_Small_value_payments</td>\n",
              "      <td>312.494089</td>\n",
              "      <td>2</td>\n",
              "    </tr>\n",
              "    <tr>\n",
              "      <th>1</th>\n",
              "      <td>February</td>\n",
              "      <td>23.000000</td>\n",
              "      <td>Scientist</td>\n",
              "      <td>19114.12</td>\n",
              "      <td>4194.170850</td>\n",
              "      <td>3.0</td>\n",
              "      <td>4.0</td>\n",
              "      <td>3.0</td>\n",
              "      <td>4.0</td>\n",
              "      <td>Auto Loan, Credit-Builder Loan, Personal Loan,...</td>\n",
              "      <td>...</td>\n",
              "      <td>Good</td>\n",
              "      <td>809.98</td>\n",
              "      <td>31.944960</td>\n",
              "      <td>0</td>\n",
              "      <td>No</td>\n",
              "      <td>49.574949</td>\n",
              "      <td>118.280222</td>\n",
              "      <td>Low_spent_Large_value_payments</td>\n",
              "      <td>284.629162</td>\n",
              "      <td>2</td>\n",
              "    </tr>\n",
              "    <tr>\n",
              "      <th>2</th>\n",
              "      <td>March</td>\n",
              "      <td>34.429817</td>\n",
              "      <td>Scientist</td>\n",
              "      <td>19114.12</td>\n",
              "      <td>4194.170850</td>\n",
              "      <td>3.0</td>\n",
              "      <td>4.0</td>\n",
              "      <td>3.0</td>\n",
              "      <td>4.0</td>\n",
              "      <td>Auto Loan, Credit-Builder Loan, Personal Loan,...</td>\n",
              "      <td>...</td>\n",
              "      <td>Good</td>\n",
              "      <td>809.98</td>\n",
              "      <td>28.609352</td>\n",
              "      <td>267</td>\n",
              "      <td>No</td>\n",
              "      <td>49.574949</td>\n",
              "      <td>81.699521</td>\n",
              "      <td>Low_spent_Medium_value_payments</td>\n",
              "      <td>331.209863</td>\n",
              "      <td>2</td>\n",
              "    </tr>\n",
              "    <tr>\n",
              "      <th>3</th>\n",
              "      <td>April</td>\n",
              "      <td>23.000000</td>\n",
              "      <td>Scientist</td>\n",
              "      <td>19114.12</td>\n",
              "      <td>4194.170850</td>\n",
              "      <td>3.0</td>\n",
              "      <td>4.0</td>\n",
              "      <td>3.0</td>\n",
              "      <td>4.0</td>\n",
              "      <td>Auto Loan, Credit-Builder Loan, Personal Loan,...</td>\n",
              "      <td>...</td>\n",
              "      <td>Good</td>\n",
              "      <td>809.98</td>\n",
              "      <td>31.377862</td>\n",
              "      <td>268</td>\n",
              "      <td>No</td>\n",
              "      <td>49.574949</td>\n",
              "      <td>199.458074</td>\n",
              "      <td>Low_spent_Small_value_payments</td>\n",
              "      <td>223.451310</td>\n",
              "      <td>2</td>\n",
              "    </tr>\n",
              "    <tr>\n",
              "      <th>4</th>\n",
              "      <td>May</td>\n",
              "      <td>23.000000</td>\n",
              "      <td>Scientist</td>\n",
              "      <td>19114.12</td>\n",
              "      <td>1824.843333</td>\n",
              "      <td>3.0</td>\n",
              "      <td>4.0</td>\n",
              "      <td>3.0</td>\n",
              "      <td>4.0</td>\n",
              "      <td>Auto Loan, Credit-Builder Loan, Personal Loan,...</td>\n",
              "      <td>...</td>\n",
              "      <td>Good</td>\n",
              "      <td>809.98</td>\n",
              "      <td>24.797347</td>\n",
              "      <td>269</td>\n",
              "      <td>No</td>\n",
              "      <td>49.574949</td>\n",
              "      <td>41.420153</td>\n",
              "      <td>High_spent_Medium_value_payments</td>\n",
              "      <td>341.489231</td>\n",
              "      <td>2</td>\n",
              "    </tr>\n",
              "  </tbody>\n",
              "</table>\n",
              "<p>5 rows × 24 columns</p>\n",
              "</div>\n",
              "      <button class=\"colab-df-convert\" onclick=\"convertToInteractive('df-9752bc09-2775-4e94-848f-be19884a7d5b')\"\n",
              "              title=\"Convert this dataframe to an interactive table.\"\n",
              "              style=\"display:none;\">\n",
              "        \n",
              "  <svg xmlns=\"http://www.w3.org/2000/svg\" height=\"24px\"viewBox=\"0 0 24 24\"\n",
              "       width=\"24px\">\n",
              "    <path d=\"M0 0h24v24H0V0z\" fill=\"none\"/>\n",
              "    <path d=\"M18.56 5.44l.94 2.06.94-2.06 2.06-.94-2.06-.94-.94-2.06-.94 2.06-2.06.94zm-11 1L8.5 8.5l.94-2.06 2.06-.94-2.06-.94L8.5 2.5l-.94 2.06-2.06.94zm10 10l.94 2.06.94-2.06 2.06-.94-2.06-.94-.94-2.06-.94 2.06-2.06.94z\"/><path d=\"M17.41 7.96l-1.37-1.37c-.4-.4-.92-.59-1.43-.59-.52 0-1.04.2-1.43.59L10.3 9.45l-7.72 7.72c-.78.78-.78 2.05 0 2.83L4 21.41c.39.39.9.59 1.41.59.51 0 1.02-.2 1.41-.59l7.78-7.78 2.81-2.81c.8-.78.8-2.07 0-2.86zM5.41 20L4 18.59l7.72-7.72 1.47 1.35L5.41 20z\"/>\n",
              "  </svg>\n",
              "      </button>\n",
              "      \n",
              "  <style>\n",
              "    .colab-df-container {\n",
              "      display:flex;\n",
              "      flex-wrap:wrap;\n",
              "      gap: 12px;\n",
              "    }\n",
              "\n",
              "    .colab-df-convert {\n",
              "      background-color: #E8F0FE;\n",
              "      border: none;\n",
              "      border-radius: 50%;\n",
              "      cursor: pointer;\n",
              "      display: none;\n",
              "      fill: #1967D2;\n",
              "      height: 32px;\n",
              "      padding: 0 0 0 0;\n",
              "      width: 32px;\n",
              "    }\n",
              "\n",
              "    .colab-df-convert:hover {\n",
              "      background-color: #E2EBFA;\n",
              "      box-shadow: 0px 1px 2px rgba(60, 64, 67, 0.3), 0px 1px 3px 1px rgba(60, 64, 67, 0.15);\n",
              "      fill: #174EA6;\n",
              "    }\n",
              "\n",
              "    [theme=dark] .colab-df-convert {\n",
              "      background-color: #3B4455;\n",
              "      fill: #D2E3FC;\n",
              "    }\n",
              "\n",
              "    [theme=dark] .colab-df-convert:hover {\n",
              "      background-color: #434B5C;\n",
              "      box-shadow: 0px 1px 3px 1px rgba(0, 0, 0, 0.15);\n",
              "      filter: drop-shadow(0px 1px 2px rgba(0, 0, 0, 0.3));\n",
              "      fill: #FFFFFF;\n",
              "    }\n",
              "  </style>\n",
              "\n",
              "      <script>\n",
              "        const buttonEl =\n",
              "          document.querySelector('#df-9752bc09-2775-4e94-848f-be19884a7d5b button.colab-df-convert');\n",
              "        buttonEl.style.display =\n",
              "          google.colab.kernel.accessAllowed ? 'block' : 'none';\n",
              "\n",
              "        async function convertToInteractive(key) {\n",
              "          const element = document.querySelector('#df-9752bc09-2775-4e94-848f-be19884a7d5b');\n",
              "          const dataTable =\n",
              "            await google.colab.kernel.invokeFunction('convertToInteractive',\n",
              "                                                     [key], {});\n",
              "          if (!dataTable) return;\n",
              "\n",
              "          const docLinkHtml = 'Like what you see? Visit the ' +\n",
              "            '<a target=\"_blank\" href=https://colab.research.google.com/notebooks/data_table.ipynb>data table notebook</a>'\n",
              "            + ' to learn more about interactive tables.';\n",
              "          element.innerHTML = '';\n",
              "          dataTable['output_type'] = 'display_data';\n",
              "          await google.colab.output.renderOutput(dataTable, element);\n",
              "          const docLink = document.createElement('div');\n",
              "          docLink.innerHTML = docLinkHtml;\n",
              "          element.appendChild(docLink);\n",
              "        }\n",
              "      </script>\n",
              "    </div>\n",
              "  </div>\n",
              "  "
            ]
          },
          "metadata": {},
          "execution_count": 61
        }
      ],
      "source": [
        "data_set.head()"
      ]
    },
    {
      "cell_type": "code",
      "execution_count": 62,
      "id": "9468978b",
      "metadata": {
        "colab": {
          "base_uri": "https://localhost:8080/"
        },
        "id": "9468978b",
        "outputId": "d02e334d-9ba0-4e89-f2f3-61179f7bcea1"
      },
      "outputs": [
        {
          "output_type": "execute_result",
          "data": {
            "text/plain": [
              "Month                        object\n",
              "Age                         float64\n",
              "Occupation                   object\n",
              "Annual_Income               float64\n",
              "Monthly_Inhand_Salary       float64\n",
              "Num_Bank_Accounts           float64\n",
              "Num_Credit_Card             float64\n",
              "Interest_Rate               float64\n",
              "Num_of_Loan                 float64\n",
              "Type_of_Loan                 object\n",
              "Delay_from_due_date           int64\n",
              "Num_of_Delayed_Payment      float64\n",
              "Changed_Credit_Limit         object\n",
              "Num_Credit_Inquiries        float64\n",
              "Credit_Mix                   object\n",
              "Outstanding_Debt            float64\n",
              "Credit_Utilization_Ratio    float64\n",
              "Credit_History_Age            int64\n",
              "Payment_of_Min_Amount        object\n",
              "Total_EMI_per_month         float64\n",
              "Amount_invested_monthly     float64\n",
              "Payment_Behaviour            object\n",
              "Monthly_Balance             float64\n",
              "Credit_Score                  int64\n",
              "dtype: object"
            ]
          },
          "metadata": {},
          "execution_count": 62
        }
      ],
      "source": [
        "data_set.dtypes"
      ]
    },
    {
      "cell_type": "code",
      "execution_count": 63,
      "id": "b86be691",
      "metadata": {
        "id": "b86be691"
      },
      "outputs": [],
      "source": [
        "# Creating a instance of label Encoder.\n",
        "le = LabelEncoder()\n",
        "\n",
        "data_set['Month'] = le.fit_transform(data_set['Month'])\n",
        "data_set['Occupation'] = le.fit_transform(data_set['Occupation'])\n",
        "data_set['Type_of_Loan'] = le.fit_transform(data_set['Type_of_Loan'])\n",
        "data_set['Changed_Credit_Limit'] = le.fit_transform(data_set['Changed_Credit_Limit'])\n",
        "data_set['Payment_of_Min_Amount'] = le.fit_transform(data_set['Payment_of_Min_Amount'])\n",
        "data_set['Payment_Behaviour'] = le.fit_transform(data_set['Payment_Behaviour'])\n",
        "data_set['Credit_Mix'] = le.fit_transform(data_set['Credit_Mix'])\n"
      ]
    },
    {
      "cell_type": "code",
      "execution_count": 64,
      "id": "118da24f",
      "metadata": {
        "colab": {
          "base_uri": "https://localhost:8080/"
        },
        "id": "118da24f",
        "outputId": "2e5d4df9-5936-4877-d155-adc8cc9a2196"
      },
      "outputs": [
        {
          "output_type": "execute_result",
          "data": {
            "text/plain": [
              "Month                       100000\n",
              "Age                         100000\n",
              "Occupation                  100000\n",
              "Annual_Income               100000\n",
              "Monthly_Inhand_Salary       100000\n",
              "Num_Bank_Accounts           100000\n",
              "Num_Credit_Card             100000\n",
              "Interest_Rate               100000\n",
              "Num_of_Loan                 100000\n",
              "Type_of_Loan                100000\n",
              "Delay_from_due_date         100000\n",
              "Num_of_Delayed_Payment      100000\n",
              "Changed_Credit_Limit        100000\n",
              "Num_Credit_Inquiries        100000\n",
              "Credit_Mix                  100000\n",
              "Outstanding_Debt            100000\n",
              "Credit_Utilization_Ratio    100000\n",
              "Credit_History_Age          100000\n",
              "Payment_of_Min_Amount       100000\n",
              "Total_EMI_per_month         100000\n",
              "Amount_invested_monthly     100000\n",
              "Payment_Behaviour           100000\n",
              "Monthly_Balance             100000\n",
              "Credit_Score                100000\n",
              "dtype: int64"
            ]
          },
          "metadata": {},
          "execution_count": 64
        }
      ],
      "source": [
        "data_set.count()"
      ]
    },
    {
      "cell_type": "code",
      "execution_count": 65,
      "id": "8e24c18a",
      "metadata": {
        "colab": {
          "base_uri": "https://localhost:8080/"
        },
        "id": "8e24c18a",
        "outputId": "95ba8fc8-6b37-459a-cb40-4ccec7e633db"
      },
      "outputs": [
        {
          "output_type": "execute_result",
          "data": {
            "text/plain": [
              "Month                       100000\n",
              "Age                         100000\n",
              "Occupation                  100000\n",
              "Annual_Income               100000\n",
              "Monthly_Inhand_Salary       100000\n",
              "Num_Bank_Accounts           100000\n",
              "Num_Credit_Card             100000\n",
              "Interest_Rate               100000\n",
              "Num_of_Loan                 100000\n",
              "Type_of_Loan                100000\n",
              "Delay_from_due_date         100000\n",
              "Num_of_Delayed_Payment      100000\n",
              "Changed_Credit_Limit        100000\n",
              "Num_Credit_Inquiries        100000\n",
              "Credit_Mix                  100000\n",
              "Outstanding_Debt            100000\n",
              "Credit_Utilization_Ratio    100000\n",
              "Credit_History_Age          100000\n",
              "Payment_of_Min_Amount       100000\n",
              "Total_EMI_per_month         100000\n",
              "Amount_invested_monthly     100000\n",
              "Payment_Behaviour           100000\n",
              "Monthly_Balance             100000\n",
              "Credit_Score                100000\n",
              "dtype: int64"
            ]
          },
          "metadata": {},
          "execution_count": 65
        }
      ],
      "source": [
        "data_set.count()"
      ]
    },
    {
      "cell_type": "code",
      "execution_count": 66,
      "id": "f99df115",
      "metadata": {
        "colab": {
          "base_uri": "https://localhost:8080/",
          "height": 299
        },
        "id": "f99df115",
        "outputId": "65f30f44-8e96-4c44-8212-c6f84ce53526"
      },
      "outputs": [
        {
          "output_type": "execute_result",
          "data": {
            "text/plain": [
              "   Month        Age  Occupation  Annual_Income  Monthly_Inhand_Salary  \\\n",
              "0      3  23.000000          13       19114.12            1824.843333   \n",
              "1      2  23.000000          13       19114.12            4194.170850   \n",
              "2      6  34.429817          13       19114.12            4194.170850   \n",
              "3      0  23.000000          13       19114.12            4194.170850   \n",
              "4      7  23.000000          13       19114.12            1824.843333   \n",
              "\n",
              "   Num_Bank_Accounts  Num_Credit_Card  Interest_Rate  Num_of_Loan  \\\n",
              "0                3.0              4.0            3.0          4.0   \n",
              "1                3.0              4.0            3.0          4.0   \n",
              "2                3.0              4.0            3.0          4.0   \n",
              "3                3.0              4.0            3.0          4.0   \n",
              "4                3.0              4.0            3.0          4.0   \n",
              "\n",
              "   Type_of_Loan  ...  Credit_Mix  Outstanding_Debt  Credit_Utilization_Ratio  \\\n",
              "0           128  ...           3            809.98                 26.822620   \n",
              "1           128  ...           1            809.98                 31.944960   \n",
              "2           128  ...           1            809.98                 28.609352   \n",
              "3           128  ...           1            809.98                 31.377862   \n",
              "4           128  ...           1            809.98                 24.797347   \n",
              "\n",
              "   Credit_History_Age  Payment_of_Min_Amount  Total_EMI_per_month  \\\n",
              "0                 265                      1            49.574949   \n",
              "1                   0                      1            49.574949   \n",
              "2                 267                      1            49.574949   \n",
              "3                 268                      1            49.574949   \n",
              "4                 269                      1            49.574949   \n",
              "\n",
              "   Amount_invested_monthly  Payment_Behaviour  Monthly_Balance  Credit_Score  \n",
              "0                80.415295                  2       312.494089             2  \n",
              "1               118.280222                  3       284.629162             2  \n",
              "2                81.699521                  4       331.209863             2  \n",
              "3               199.458074                  5       223.451310             2  \n",
              "4                41.420153                  1       341.489231             2  \n",
              "\n",
              "[5 rows x 24 columns]"
            ],
            "text/html": [
              "\n",
              "  <div id=\"df-124abe12-e15d-4797-8b36-9169f11143f0\">\n",
              "    <div class=\"colab-df-container\">\n",
              "      <div>\n",
              "<style scoped>\n",
              "    .dataframe tbody tr th:only-of-type {\n",
              "        vertical-align: middle;\n",
              "    }\n",
              "\n",
              "    .dataframe tbody tr th {\n",
              "        vertical-align: top;\n",
              "    }\n",
              "\n",
              "    .dataframe thead th {\n",
              "        text-align: right;\n",
              "    }\n",
              "</style>\n",
              "<table border=\"1\" class=\"dataframe\">\n",
              "  <thead>\n",
              "    <tr style=\"text-align: right;\">\n",
              "      <th></th>\n",
              "      <th>Month</th>\n",
              "      <th>Age</th>\n",
              "      <th>Occupation</th>\n",
              "      <th>Annual_Income</th>\n",
              "      <th>Monthly_Inhand_Salary</th>\n",
              "      <th>Num_Bank_Accounts</th>\n",
              "      <th>Num_Credit_Card</th>\n",
              "      <th>Interest_Rate</th>\n",
              "      <th>Num_of_Loan</th>\n",
              "      <th>Type_of_Loan</th>\n",
              "      <th>...</th>\n",
              "      <th>Credit_Mix</th>\n",
              "      <th>Outstanding_Debt</th>\n",
              "      <th>Credit_Utilization_Ratio</th>\n",
              "      <th>Credit_History_Age</th>\n",
              "      <th>Payment_of_Min_Amount</th>\n",
              "      <th>Total_EMI_per_month</th>\n",
              "      <th>Amount_invested_monthly</th>\n",
              "      <th>Payment_Behaviour</th>\n",
              "      <th>Monthly_Balance</th>\n",
              "      <th>Credit_Score</th>\n",
              "    </tr>\n",
              "  </thead>\n",
              "  <tbody>\n",
              "    <tr>\n",
              "      <th>0</th>\n",
              "      <td>3</td>\n",
              "      <td>23.000000</td>\n",
              "      <td>13</td>\n",
              "      <td>19114.12</td>\n",
              "      <td>1824.843333</td>\n",
              "      <td>3.0</td>\n",
              "      <td>4.0</td>\n",
              "      <td>3.0</td>\n",
              "      <td>4.0</td>\n",
              "      <td>128</td>\n",
              "      <td>...</td>\n",
              "      <td>3</td>\n",
              "      <td>809.98</td>\n",
              "      <td>26.822620</td>\n",
              "      <td>265</td>\n",
              "      <td>1</td>\n",
              "      <td>49.574949</td>\n",
              "      <td>80.415295</td>\n",
              "      <td>2</td>\n",
              "      <td>312.494089</td>\n",
              "      <td>2</td>\n",
              "    </tr>\n",
              "    <tr>\n",
              "      <th>1</th>\n",
              "      <td>2</td>\n",
              "      <td>23.000000</td>\n",
              "      <td>13</td>\n",
              "      <td>19114.12</td>\n",
              "      <td>4194.170850</td>\n",
              "      <td>3.0</td>\n",
              "      <td>4.0</td>\n",
              "      <td>3.0</td>\n",
              "      <td>4.0</td>\n",
              "      <td>128</td>\n",
              "      <td>...</td>\n",
              "      <td>1</td>\n",
              "      <td>809.98</td>\n",
              "      <td>31.944960</td>\n",
              "      <td>0</td>\n",
              "      <td>1</td>\n",
              "      <td>49.574949</td>\n",
              "      <td>118.280222</td>\n",
              "      <td>3</td>\n",
              "      <td>284.629162</td>\n",
              "      <td>2</td>\n",
              "    </tr>\n",
              "    <tr>\n",
              "      <th>2</th>\n",
              "      <td>6</td>\n",
              "      <td>34.429817</td>\n",
              "      <td>13</td>\n",
              "      <td>19114.12</td>\n",
              "      <td>4194.170850</td>\n",
              "      <td>3.0</td>\n",
              "      <td>4.0</td>\n",
              "      <td>3.0</td>\n",
              "      <td>4.0</td>\n",
              "      <td>128</td>\n",
              "      <td>...</td>\n",
              "      <td>1</td>\n",
              "      <td>809.98</td>\n",
              "      <td>28.609352</td>\n",
              "      <td>267</td>\n",
              "      <td>1</td>\n",
              "      <td>49.574949</td>\n",
              "      <td>81.699521</td>\n",
              "      <td>4</td>\n",
              "      <td>331.209863</td>\n",
              "      <td>2</td>\n",
              "    </tr>\n",
              "    <tr>\n",
              "      <th>3</th>\n",
              "      <td>0</td>\n",
              "      <td>23.000000</td>\n",
              "      <td>13</td>\n",
              "      <td>19114.12</td>\n",
              "      <td>4194.170850</td>\n",
              "      <td>3.0</td>\n",
              "      <td>4.0</td>\n",
              "      <td>3.0</td>\n",
              "      <td>4.0</td>\n",
              "      <td>128</td>\n",
              "      <td>...</td>\n",
              "      <td>1</td>\n",
              "      <td>809.98</td>\n",
              "      <td>31.377862</td>\n",
              "      <td>268</td>\n",
              "      <td>1</td>\n",
              "      <td>49.574949</td>\n",
              "      <td>199.458074</td>\n",
              "      <td>5</td>\n",
              "      <td>223.451310</td>\n",
              "      <td>2</td>\n",
              "    </tr>\n",
              "    <tr>\n",
              "      <th>4</th>\n",
              "      <td>7</td>\n",
              "      <td>23.000000</td>\n",
              "      <td>13</td>\n",
              "      <td>19114.12</td>\n",
              "      <td>1824.843333</td>\n",
              "      <td>3.0</td>\n",
              "      <td>4.0</td>\n",
              "      <td>3.0</td>\n",
              "      <td>4.0</td>\n",
              "      <td>128</td>\n",
              "      <td>...</td>\n",
              "      <td>1</td>\n",
              "      <td>809.98</td>\n",
              "      <td>24.797347</td>\n",
              "      <td>269</td>\n",
              "      <td>1</td>\n",
              "      <td>49.574949</td>\n",
              "      <td>41.420153</td>\n",
              "      <td>1</td>\n",
              "      <td>341.489231</td>\n",
              "      <td>2</td>\n",
              "    </tr>\n",
              "  </tbody>\n",
              "</table>\n",
              "<p>5 rows × 24 columns</p>\n",
              "</div>\n",
              "      <button class=\"colab-df-convert\" onclick=\"convertToInteractive('df-124abe12-e15d-4797-8b36-9169f11143f0')\"\n",
              "              title=\"Convert this dataframe to an interactive table.\"\n",
              "              style=\"display:none;\">\n",
              "        \n",
              "  <svg xmlns=\"http://www.w3.org/2000/svg\" height=\"24px\"viewBox=\"0 0 24 24\"\n",
              "       width=\"24px\">\n",
              "    <path d=\"M0 0h24v24H0V0z\" fill=\"none\"/>\n",
              "    <path d=\"M18.56 5.44l.94 2.06.94-2.06 2.06-.94-2.06-.94-.94-2.06-.94 2.06-2.06.94zm-11 1L8.5 8.5l.94-2.06 2.06-.94-2.06-.94L8.5 2.5l-.94 2.06-2.06.94zm10 10l.94 2.06.94-2.06 2.06-.94-2.06-.94-.94-2.06-.94 2.06-2.06.94z\"/><path d=\"M17.41 7.96l-1.37-1.37c-.4-.4-.92-.59-1.43-.59-.52 0-1.04.2-1.43.59L10.3 9.45l-7.72 7.72c-.78.78-.78 2.05 0 2.83L4 21.41c.39.39.9.59 1.41.59.51 0 1.02-.2 1.41-.59l7.78-7.78 2.81-2.81c.8-.78.8-2.07 0-2.86zM5.41 20L4 18.59l7.72-7.72 1.47 1.35L5.41 20z\"/>\n",
              "  </svg>\n",
              "      </button>\n",
              "      \n",
              "  <style>\n",
              "    .colab-df-container {\n",
              "      display:flex;\n",
              "      flex-wrap:wrap;\n",
              "      gap: 12px;\n",
              "    }\n",
              "\n",
              "    .colab-df-convert {\n",
              "      background-color: #E8F0FE;\n",
              "      border: none;\n",
              "      border-radius: 50%;\n",
              "      cursor: pointer;\n",
              "      display: none;\n",
              "      fill: #1967D2;\n",
              "      height: 32px;\n",
              "      padding: 0 0 0 0;\n",
              "      width: 32px;\n",
              "    }\n",
              "\n",
              "    .colab-df-convert:hover {\n",
              "      background-color: #E2EBFA;\n",
              "      box-shadow: 0px 1px 2px rgba(60, 64, 67, 0.3), 0px 1px 3px 1px rgba(60, 64, 67, 0.15);\n",
              "      fill: #174EA6;\n",
              "    }\n",
              "\n",
              "    [theme=dark] .colab-df-convert {\n",
              "      background-color: #3B4455;\n",
              "      fill: #D2E3FC;\n",
              "    }\n",
              "\n",
              "    [theme=dark] .colab-df-convert:hover {\n",
              "      background-color: #434B5C;\n",
              "      box-shadow: 0px 1px 3px 1px rgba(0, 0, 0, 0.15);\n",
              "      filter: drop-shadow(0px 1px 2px rgba(0, 0, 0, 0.3));\n",
              "      fill: #FFFFFF;\n",
              "    }\n",
              "  </style>\n",
              "\n",
              "      <script>\n",
              "        const buttonEl =\n",
              "          document.querySelector('#df-124abe12-e15d-4797-8b36-9169f11143f0 button.colab-df-convert');\n",
              "        buttonEl.style.display =\n",
              "          google.colab.kernel.accessAllowed ? 'block' : 'none';\n",
              "\n",
              "        async function convertToInteractive(key) {\n",
              "          const element = document.querySelector('#df-124abe12-e15d-4797-8b36-9169f11143f0');\n",
              "          const dataTable =\n",
              "            await google.colab.kernel.invokeFunction('convertToInteractive',\n",
              "                                                     [key], {});\n",
              "          if (!dataTable) return;\n",
              "\n",
              "          const docLinkHtml = 'Like what you see? Visit the ' +\n",
              "            '<a target=\"_blank\" href=https://colab.research.google.com/notebooks/data_table.ipynb>data table notebook</a>'\n",
              "            + ' to learn more about interactive tables.';\n",
              "          element.innerHTML = '';\n",
              "          dataTable['output_type'] = 'display_data';\n",
              "          await google.colab.output.renderOutput(dataTable, element);\n",
              "          const docLink = document.createElement('div');\n",
              "          docLink.innerHTML = docLinkHtml;\n",
              "          element.appendChild(docLink);\n",
              "        }\n",
              "      </script>\n",
              "    </div>\n",
              "  </div>\n",
              "  "
            ]
          },
          "metadata": {},
          "execution_count": 66
        }
      ],
      "source": [
        "data_set.head()"
      ]
    },
    {
      "cell_type": "markdown",
      "source": [
        "## **Saving Processed Data as \"Processeddata.csv\"**"
      ],
      "metadata": {
        "id": "lM2VWOuHD1iB"
      },
      "id": "lM2VWOuHD1iB"
    },
    {
      "cell_type": "code",
      "source": [
        "data_set.to_csv('Processeddata.csv')\n"
      ],
      "metadata": {
        "id": "aFK7TtfK7jEf"
      },
      "id": "aFK7TtfK7jEf",
      "execution_count": 67,
      "outputs": []
    },
    {
      "cell_type": "code",
      "execution_count": 68,
      "id": "31dd9302",
      "metadata": {
        "id": "31dd9302"
      },
      "outputs": [],
      "source": [
        "data_set.dropna(subset=[\"Credit_Mix\"], inplace=True)\n"
      ]
    },
    {
      "cell_type": "markdown",
      "source": [
        "## Taking a sample of 5000 from dataset as per our faculty instructions."
      ],
      "metadata": {
        "id": "M6U0kunXEE_O"
      },
      "id": "M6U0kunXEE_O"
    },
    {
      "cell_type": "code",
      "execution_count": 69,
      "id": "f3a23b42",
      "metadata": {
        "id": "f3a23b42"
      },
      "outputs": [],
      "source": [
        "mdata=data_set.sample(5000)"
      ]
    },
    {
      "cell_type": "code",
      "source": [
        "mdata = np.round(mdata, decimals=2) # rouding all values in dataset to 2 decimal places\n",
        "mdata.head() # first 5 values in dataset"
      ],
      "metadata": {
        "id": "4TexLOtd9lj5"
      },
      "id": "4TexLOtd9lj5",
      "execution_count": null,
      "outputs": []
    },
    {
      "cell_type": "code",
      "execution_count": 70,
      "id": "4fb693d8",
      "metadata": {
        "id": "4fb693d8"
      },
      "outputs": [],
      "source": [
        "scaled = MinMaxScaler()\n",
        "scaled. fit(mdata.drop('Credit_Score',axis=1))\n",
        "dset_modified=scaled. transform(mdata.drop('Credit_Score',axis=1)) #dropping class—feature\n",
        "data_set_feat = pd.DataFrame(dset_modified, columns=data_set.columns[:-1])\n",
        "data_set_feat = np.round(data_set_feat, decimals=2) #rounding all values to 2 decimals\n",
        "data_set_feat.head() #dataset_after_normalization\n",
        "one_train, one_test, two_train, two_test = train_test_split(mdata,mdata['Credit_Score'],test_size=0.30)"
      ]
    },
    {
      "cell_type": "code",
      "execution_count": 71,
      "id": "613d611a",
      "metadata": {
        "id": "613d611a"
      },
      "outputs": [],
      "source": [
        "# Computation of accuracy rates for various neighbour values\n",
        "Accurate_rates = []\n",
        "for i in range(1,40):\n",
        "    k_nearest_neighbour = KNeighborsClassifier(n_neighbors=i)\n",
        "    final_score=cross_val_score(k_nearest_neighbour, data_set_feat,mdata['Credit_Score'],cv=10)\n",
        "    Accurate_rates.append(final_score.mean())"
      ]
    },
    {
      "cell_type": "code",
      "execution_count": 72,
      "id": "7fe164be",
      "metadata": {
        "colab": {
          "base_uri": "https://localhost:8080/",
          "height": 422
        },
        "id": "7fe164be",
        "outputId": "55559b96-967b-456a-acb4-edad764e72c3"
      },
      "outputs": [
        {
          "output_type": "execute_result",
          "data": {
            "text/plain": [
              "Text(0, 0.5, 'Accuracy Rate')"
            ]
          },
          "metadata": {},
          "execution_count": 72
        },
        {
          "output_type": "display_data",
          "data": {
            "text/plain": [
              "<Figure size 720x432 with 1 Axes>"
            ],
            "image/png": "[encoded data removed]"
          },
          "metadata": {
            "needs_background": "light"
          }
        }
      ],
      "source": [
        "plt.figure(figsize=(10,6))\n",
        "\n",
        "plt.plot(range(1,40),Accurate_rates, color='blue', linestyle='dashed', marker='o',markerfacecolor='red', markersize=10)\n",
        "\n",
        "plt.title('Accuracy Rate vs. K Value')\n",
        "\n",
        "plt.xlabel('K')\n",
        "\n",
        "plt.ylabel( 'Accuracy Rate')"
      ]
    },
    {
      "cell_type": "code",
      "execution_count": 81,
      "id": "891da0df",
      "metadata": {
        "id": "891da0df"
      },
      "outputs": [],
      "source": [
        "# Split data into X & y\n",
        "X = mdata.drop(\"Credit_Score\", axis=1)\n",
        "y = mdata[\"Credit_Score\"]\n",
        "\n",
        "# Split data into train and teset sets\n",
        "np.random.seed(42)\n",
        "one_train, one_test, two_train, two_test = train_test_split(X, y, test_size=0.2)"
      ]
    },
    {
      "cell_type": "code",
      "source": [
        "max_index = Accurate_rates. index(max(Accurate_rates)) # Best case identifier\n",
        "k_nearest_neighbour = KNeighborsClassifier(n_neighbors=max_index)\n",
        "\n",
        "k_nearest_neighbour.fit(one_train,two_train)\n",
        "prediction = k_nearest_neighbour. predict (one_test)\n",
        "\n",
        "print('For K=',max_index)\n",
        "\n",
        "print('Confusion matrix:')\n",
        "\n",
        "print('\\n')\n",
        "\n",
        "print(confusion_matrix(two_test,prediction)) # Confusion Matrix\n",
        "\n",
        "print('\\n')\n",
        "print('Accuracy rate:',round(accuracy_score(two_test,prediction),2)*100,'%')"
      ],
      "metadata": {
        "colab": {
          "base_uri": "https://localhost:8080/"
        },
        "id": "JNRMtvWl92ao",
        "outputId": "e671b456-b428-455f-b5dc-eb0336a063d3"
      },
      "id": "JNRMtvWl92ao",
      "execution_count": 82,
      "outputs": [
        {
          "output_type": "stream",
          "name": "stdout",
          "text": [
            "For K= 21\n",
            "Confusion matrix:\n",
            "\n",
            "\n",
            "[[106 149  16]\n",
            " [ 90 447  26]\n",
            " [ 10 139  17]]\n",
            "\n",
            "\n",
            "Accuracy rate: 56.99999999999999 %\n"
          ]
        }
      ]
    },
    {
      "cell_type": "code",
      "execution_count": 83,
      "id": "d0e9a165",
      "metadata": {
        "colab": {
          "base_uri": "https://localhost:8080/"
        },
        "id": "d0e9a165",
        "outputId": "f6307c69-00a8-4c15-894a-7c62bb4335be"
      },
      "outputs": [
        {
          "output_type": "stream",
          "name": "stdout",
          "text": [
            "For K= 30\n",
            "Confusion matrix:\n",
            "\n",
            "\n",
            "[[ 99 164   8]\n",
            " [ 84 463  16]\n",
            " [ 11 142  13]]\n",
            "\n",
            "\n",
            "Accuracy rate: 56.99999999999999 %\n"
          ]
        }
      ],
      "source": [
        "t = 30 # Random K value\n",
        "\n",
        "k_nearest_neighbour = KNeighborsClassifier(n_neighbors=t)\n",
        "k_nearest_neighbour. fit(one_train, two_train)\n",
        "prediction = k_nearest_neighbour.predict(one_test)\n",
        "\n",
        "print('For K=',t)\n",
        "\n",
        "print('Confusion matrix:')\n",
        "\n",
        "print('\\n')\n",
        "\n",
        "print (confusion_matrix(two_test, prediction) )\n",
        "print('\\n')\n",
        "print('Accuracy rate:',round(accuracy_score(two_test,prediction),2)*100,'%')\n"
      ]
    },
    {
      "cell_type": "code",
      "source": [
        "scaled = MinMaxScaler()\n"
      ],
      "metadata": {
        "id": "ybh9bkQ--olA"
      },
      "id": "ybh9bkQ--olA",
      "execution_count": 84,
      "outputs": []
    },
    {
      "cell_type": "code",
      "source": [
        "scaled. fit(mdata.drop('Credit_Score',axis=1))"
      ],
      "metadata": {
        "colab": {
          "base_uri": "https://localhost:8080/"
        },
        "id": "8IkhRLO5-qfx",
        "outputId": "0bca21f6-6ea2-42fc-b1da-22047f5b1c35"
      },
      "id": "8IkhRLO5-qfx",
      "execution_count": 85,
      "outputs": [
        {
          "output_type": "execute_result",
          "data": {
            "text/plain": [
              "MinMaxScaler()"
            ]
          },
          "metadata": {},
          "execution_count": 85
        }
      ]
    },
    {
      "cell_type": "code",
      "source": [
        "dset_modified=scaled. transform(mdata.drop('Credit_Score',axis=1)) #dropping class—feature"
      ],
      "metadata": {
        "id": "tjiZEewG-tIR"
      },
      "id": "tjiZEewG-tIR",
      "execution_count": 86,
      "outputs": []
    },
    {
      "cell_type": "code",
      "source": [
        "data_set_feat = pd.DataFrame(dset_modified, columns=data_set.columns[:-1])"
      ],
      "metadata": {
        "id": "a95fVOFc-tx9"
      },
      "id": "a95fVOFc-tx9",
      "execution_count": 87,
      "outputs": []
    },
    {
      "cell_type": "code",
      "source": [
        "data_set_feat = np.round(data_set_feat, decimals=2) #rounding all values to 2 decimals\n",
        "\n",
        "data_set_feat.head() #dataset_after_normalization"
      ],
      "metadata": {
        "colab": {
          "base_uri": "https://localhost:8080/",
          "height": 299
        },
        "id": "IULrziNx-u9D",
        "outputId": "9032ffaf-3de5-4d3e-cef3-29f20ac04cc5"
      },
      "id": "IULrziNx-u9D",
      "execution_count": 88,
      "outputs": [
        {
          "output_type": "execute_result",
          "data": {
            "text/plain": [
              "   Month   Age  Occupation  Annual_Income  Monthly_Inhand_Salary  \\\n",
              "0   0.86  0.84        0.13           0.00                   0.26   \n",
              "1   0.71  0.55        0.13           0.00                   0.69   \n",
              "2   0.43  0.71        0.07           0.00                   0.09   \n",
              "3   0.71  0.05        0.87           0.00                   0.13   \n",
              "4   0.86  0.37        0.87           0.01                   0.26   \n",
              "\n",
              "   Num_Bank_Accounts  Num_Credit_Card  Interest_Rate  Num_of_Loan  \\\n",
              "0               0.09             0.05           0.15         0.00   \n",
              "1               0.00             0.01           0.11         0.13   \n",
              "2               0.08             0.05           0.14         0.13   \n",
              "3               0.06             0.05           0.01         0.04   \n",
              "4               0.03             0.05           0.14         0.09   \n",
              "\n",
              "   Type_of_Loan  ...  Num_Credit_Inquiries  Credit_Mix  Outstanding_Debt  \\\n",
              "0          1.00  ...                   0.0        0.67              0.20   \n",
              "1          0.44  ...                   0.0        0.33              0.24   \n",
              "2          0.13  ...                   0.0        0.33              0.07   \n",
              "3          0.89  ...                   0.0        0.33              0.30   \n",
              "4          1.00  ...                   0.0        0.33              0.25   \n",
              "\n",
              "   Credit_Utilization_Ratio  Credit_History_Age  Payment_of_Min_Amount  \\\n",
              "0                      0.71                0.80                    0.0   \n",
              "1                      0.53                0.84                    0.5   \n",
              "2                      0.65                0.73                    0.0   \n",
              "3                      0.68                0.79                    0.5   \n",
              "4                      0.35                0.53                    0.5   \n",
              "\n",
              "   Total_EMI_per_month  Amount_invested_monthly  Payment_Behaviour  \\\n",
              "0                  0.0                     0.00               0.00   \n",
              "1                  0.0                     0.09               0.67   \n",
              "2                  0.0                     0.02               0.83   \n",
              "3                  0.0                     0.03               0.83   \n",
              "4                  0.0                     0.07               1.00   \n",
              "\n",
              "   Monthly_Balance  \n",
              "0             0.59  \n",
              "1             0.14  \n",
              "2             0.14  \n",
              "3             0.15  \n",
              "4             0.48  \n",
              "\n",
              "[5 rows x 23 columns]"
            ],
            "text/html": [
              "\n",
              "  <div id=\"df-0a495738-645a-47f6-9b2f-59a4c4d75058\">\n",
              "    <div class=\"colab-df-container\">\n",
              "      <div>\n",
              "<style scoped>\n",
              "    .dataframe tbody tr th:only-of-type {\n",
              "        vertical-align: middle;\n",
              "    }\n",
              "\n",
              "    .dataframe tbody tr th {\n",
              "        vertical-align: top;\n",
              "    }\n",
              "\n",
              "    .dataframe thead th {\n",
              "        text-align: right;\n",
              "    }\n",
              "</style>\n",
              "<table border=\"1\" class=\"dataframe\">\n",
              "  <thead>\n",
              "    <tr style=\"text-align: right;\">\n",
              "      <th></th>\n",
              "      <th>Month</th>\n",
              "      <th>Age</th>\n",
              "      <th>Occupation</th>\n",
              "      <th>Annual_Income</th>\n",
              "      <th>Monthly_Inhand_Salary</th>\n",
              "      <th>Num_Bank_Accounts</th>\n",
              "      <th>Num_Credit_Card</th>\n",
              "      <th>Interest_Rate</th>\n",
              "      <th>Num_of_Loan</th>\n",
              "      <th>Type_of_Loan</th>\n",
              "      <th>...</th>\n",
              "      <th>Num_Credit_Inquiries</th>\n",
              "      <th>Credit_Mix</th>\n",
              "      <th>Outstanding_Debt</th>\n",
              "      <th>Credit_Utilization_Ratio</th>\n",
              "      <th>Credit_History_Age</th>\n",
              "      <th>Payment_of_Min_Amount</th>\n",
              "      <th>Total_EMI_per_month</th>\n",
              "      <th>Amount_invested_monthly</th>\n",
              "      <th>Payment_Behaviour</th>\n",
              "      <th>Monthly_Balance</th>\n",
              "    </tr>\n",
              "  </thead>\n",
              "  <tbody>\n",
              "    <tr>\n",
              "      <th>0</th>\n",
              "      <td>0.86</td>\n",
              "      <td>0.84</td>\n",
              "      <td>0.13</td>\n",
              "      <td>0.00</td>\n",
              "      <td>0.26</td>\n",
              "      <td>0.09</td>\n",
              "      <td>0.05</td>\n",
              "      <td>0.15</td>\n",
              "      <td>0.00</td>\n",
              "      <td>1.00</td>\n",
              "      <td>...</td>\n",
              "      <td>0.0</td>\n",
              "      <td>0.67</td>\n",
              "      <td>0.20</td>\n",
              "      <td>0.71</td>\n",
              "      <td>0.80</td>\n",
              "      <td>0.0</td>\n",
              "      <td>0.0</td>\n",
              "      <td>0.00</td>\n",
              "      <td>0.00</td>\n",
              "      <td>0.59</td>\n",
              "    </tr>\n",
              "    <tr>\n",
              "      <th>1</th>\n",
              "      <td>0.71</td>\n",
              "      <td>0.55</td>\n",
              "      <td>0.13</td>\n",
              "      <td>0.00</td>\n",
              "      <td>0.69</td>\n",
              "      <td>0.00</td>\n",
              "      <td>0.01</td>\n",
              "      <td>0.11</td>\n",
              "      <td>0.13</td>\n",
              "      <td>0.44</td>\n",
              "      <td>...</td>\n",
              "      <td>0.0</td>\n",
              "      <td>0.33</td>\n",
              "      <td>0.24</td>\n",
              "      <td>0.53</td>\n",
              "      <td>0.84</td>\n",
              "      <td>0.5</td>\n",
              "      <td>0.0</td>\n",
              "      <td>0.09</td>\n",
              "      <td>0.67</td>\n",
              "      <td>0.14</td>\n",
              "    </tr>\n",
              "    <tr>\n",
              "      <th>2</th>\n",
              "      <td>0.43</td>\n",
              "      <td>0.71</td>\n",
              "      <td>0.07</td>\n",
              "      <td>0.00</td>\n",
              "      <td>0.09</td>\n",
              "      <td>0.08</td>\n",
              "      <td>0.05</td>\n",
              "      <td>0.14</td>\n",
              "      <td>0.13</td>\n",
              "      <td>0.13</td>\n",
              "      <td>...</td>\n",
              "      <td>0.0</td>\n",
              "      <td>0.33</td>\n",
              "      <td>0.07</td>\n",
              "      <td>0.65</td>\n",
              "      <td>0.73</td>\n",
              "      <td>0.0</td>\n",
              "      <td>0.0</td>\n",
              "      <td>0.02</td>\n",
              "      <td>0.83</td>\n",
              "      <td>0.14</td>\n",
              "    </tr>\n",
              "    <tr>\n",
              "      <th>3</th>\n",
              "      <td>0.71</td>\n",
              "      <td>0.05</td>\n",
              "      <td>0.87</td>\n",
              "      <td>0.00</td>\n",
              "      <td>0.13</td>\n",
              "      <td>0.06</td>\n",
              "      <td>0.05</td>\n",
              "      <td>0.01</td>\n",
              "      <td>0.04</td>\n",
              "      <td>0.89</td>\n",
              "      <td>...</td>\n",
              "      <td>0.0</td>\n",
              "      <td>0.33</td>\n",
              "      <td>0.30</td>\n",
              "      <td>0.68</td>\n",
              "      <td>0.79</td>\n",
              "      <td>0.5</td>\n",
              "      <td>0.0</td>\n",
              "      <td>0.03</td>\n",
              "      <td>0.83</td>\n",
              "      <td>0.15</td>\n",
              "    </tr>\n",
              "    <tr>\n",
              "      <th>4</th>\n",
              "      <td>0.86</td>\n",
              "      <td>0.37</td>\n",
              "      <td>0.87</td>\n",
              "      <td>0.01</td>\n",
              "      <td>0.26</td>\n",
              "      <td>0.03</td>\n",
              "      <td>0.05</td>\n",
              "      <td>0.14</td>\n",
              "      <td>0.09</td>\n",
              "      <td>1.00</td>\n",
              "      <td>...</td>\n",
              "      <td>0.0</td>\n",
              "      <td>0.33</td>\n",
              "      <td>0.25</td>\n",
              "      <td>0.35</td>\n",
              "      <td>0.53</td>\n",
              "      <td>0.5</td>\n",
              "      <td>0.0</td>\n",
              "      <td>0.07</td>\n",
              "      <td>1.00</td>\n",
              "      <td>0.48</td>\n",
              "    </tr>\n",
              "  </tbody>\n",
              "</table>\n",
              "<p>5 rows × 23 columns</p>\n",
              "</div>\n",
              "      <button class=\"colab-df-convert\" onclick=\"convertToInteractive('df-0a495738-645a-47f6-9b2f-59a4c4d75058')\"\n",
              "              title=\"Convert this dataframe to an interactive table.\"\n",
              "              style=\"display:none;\">\n",
              "        \n",
              "  <svg xmlns=\"http://www.w3.org/2000/svg\" height=\"24px\"viewBox=\"0 0 24 24\"\n",
              "       width=\"24px\">\n",
              "    <path d=\"M0 0h24v24H0V0z\" fill=\"none\"/>\n",
              "    <path d=\"M18.56 5.44l.94 2.06.94-2.06 2.06-.94-2.06-.94-.94-2.06-.94 2.06-2.06.94zm-11 1L8.5 8.5l.94-2.06 2.06-.94-2.06-.94L8.5 2.5l-.94 2.06-2.06.94zm10 10l.94 2.06.94-2.06 2.06-.94-2.06-.94-.94-2.06-.94 2.06-2.06.94z\"/><path d=\"M17.41 7.96l-1.37-1.37c-.4-.4-.92-.59-1.43-.59-.52 0-1.04.2-1.43.59L10.3 9.45l-7.72 7.72c-.78.78-.78 2.05 0 2.83L4 21.41c.39.39.9.59 1.41.59.51 0 1.02-.2 1.41-.59l7.78-7.78 2.81-2.81c.8-.78.8-2.07 0-2.86zM5.41 20L4 18.59l7.72-7.72 1.47 1.35L5.41 20z\"/>\n",
              "  </svg>\n",
              "      </button>\n",
              "      \n",
              "  <style>\n",
              "    .colab-df-container {\n",
              "      display:flex;\n",
              "      flex-wrap:wrap;\n",
              "      gap: 12px;\n",
              "    }\n",
              "\n",
              "    .colab-df-convert {\n",
              "      background-color: #E8F0FE;\n",
              "      border: none;\n",
              "      border-radius: 50%;\n",
              "      cursor: pointer;\n",
              "      display: none;\n",
              "      fill: #1967D2;\n",
              "      height: 32px;\n",
              "      padding: 0 0 0 0;\n",
              "      width: 32px;\n",
              "    }\n",
              "\n",
              "    .colab-df-convert:hover {\n",
              "      background-color: #E2EBFA;\n",
              "      box-shadow: 0px 1px 2px rgba(60, 64, 67, 0.3), 0px 1px 3px 1px rgba(60, 64, 67, 0.15);\n",
              "      fill: #174EA6;\n",
              "    }\n",
              "\n",
              "    [theme=dark] .colab-df-convert {\n",
              "      background-color: #3B4455;\n",
              "      fill: #D2E3FC;\n",
              "    }\n",
              "\n",
              "    [theme=dark] .colab-df-convert:hover {\n",
              "      background-color: #434B5C;\n",
              "      box-shadow: 0px 1px 3px 1px rgba(0, 0, 0, 0.15);\n",
              "      filter: drop-shadow(0px 1px 2px rgba(0, 0, 0, 0.3));\n",
              "      fill: #FFFFFF;\n",
              "    }\n",
              "  </style>\n",
              "\n",
              "      <script>\n",
              "        const buttonEl =\n",
              "          document.querySelector('#df-0a495738-645a-47f6-9b2f-59a4c4d75058 button.colab-df-convert');\n",
              "        buttonEl.style.display =\n",
              "          google.colab.kernel.accessAllowed ? 'block' : 'none';\n",
              "\n",
              "        async function convertToInteractive(key) {\n",
              "          const element = document.querySelector('#df-0a495738-645a-47f6-9b2f-59a4c4d75058');\n",
              "          const dataTable =\n",
              "            await google.colab.kernel.invokeFunction('convertToInteractive',\n",
              "                                                     [key], {});\n",
              "          if (!dataTable) return;\n",
              "\n",
              "          const docLinkHtml = 'Like what you see? Visit the ' +\n",
              "            '<a target=\"_blank\" href=https://colab.research.google.com/notebooks/data_table.ipynb>data table notebook</a>'\n",
              "            + ' to learn more about interactive tables.';\n",
              "          element.innerHTML = '';\n",
              "          dataTable['output_type'] = 'display_data';\n",
              "          await google.colab.output.renderOutput(dataTable, element);\n",
              "          const docLink = document.createElement('div');\n",
              "          docLink.innerHTML = docLinkHtml;\n",
              "          element.appendChild(docLink);\n",
              "        }\n",
              "      </script>\n",
              "    </div>\n",
              "  </div>\n",
              "  "
            ]
          },
          "metadata": {},
          "execution_count": 88
        }
      ]
    },
    {
      "cell_type": "code",
      "source": [
        "# Split data into X & y\n",
        "X = mdata.drop(\"Credit_Score\", axis=1)\n",
        "y = mdata[\"Credit_Score\"]\n",
        "\n",
        "# Split data into train and teset sets\n",
        "np.random.seed(42)\n",
        "one_train, one_test, two_train, two_test = train_test_split(X, y, test_size=0.2) # test_train split with test size =30% and train size =70%"
      ],
      "metadata": {
        "id": "as9deFnU-wrm"
      },
      "id": "as9deFnU-wrm",
      "execution_count": 89,
      "outputs": []
    },
    {
      "cell_type": "code",
      "source": [
        "# Computation of accuracy rates for various neighbour values\n",
        "Accurate_rates = []\n",
        "for i in range(1,40):\n",
        "    k_nearest_neighbour = KNeighborsClassifier(n_neighbors=i)\n",
        "    final_score=cross_val_score(k_nearest_neighbour, data_set_feat,mdata['Credit_Score'],cv=10)\n",
        "    Accurate_rates.append(final_score.mean())"
      ],
      "metadata": {
        "id": "xLSEcOmp-1Tw"
      },
      "id": "xLSEcOmp-1Tw",
      "execution_count": 90,
      "outputs": []
    },
    {
      "cell_type": "code",
      "source": [
        "plt.figure(figsize=(10,6))\n",
        "\n",
        "plt.plot(range(1,40),Accurate_rates, color='blue', linestyle='dashed', marker='o',markerfacecolor='red', markersize=10)\n",
        "\n",
        "plt.title('Accuracy Rate vs. K Value')\n",
        "\n",
        "plt.xlabel('K')\n",
        "\n",
        "plt.ylabel( 'Accuracy Rate')"
      ],
      "metadata": {
        "colab": {
          "base_uri": "https://localhost:8080/",
          "height": 422
        },
        "id": "4FeCCziy-23W",
        "outputId": "536504a1-294f-4d9c-c05b-c2326f826cb0"
      },
      "id": "4FeCCziy-23W",
      "execution_count": 91,
      "outputs": [
        {
          "output_type": "execute_result",
          "data": {
            "text/plain": [
              "Text(0, 0.5, 'Accuracy Rate')"
            ]
          },
          "metadata": {},
          "execution_count": 91
        },
        {
          "output_type": "display_data",
          "data": {
            "text/plain": [
              "<Figure size 720x432 with 1 Axes>"
            ],
            "image/png": "[encoded data removed]"
          },
          "metadata": {
            "needs_background": "light"
          }
        }
      ]
    },
    {
      "cell_type": "code",
      "source": [],
      "metadata": {
        "id": "67YACmfeBK4Q"
      },
      "id": "67YACmfeBK4Q",
      "execution_count": null,
      "outputs": []
    },
    {
      "cell_type": "markdown",
      "source": [
        "## Using Scikit-Learn's Pipeline() class for filling missing data and encoding categorical data\n"
      ],
      "metadata": {
        "id": "koVUf77rEz-5"
      },
      "id": "koVUf77rEz-5"
    },
    {
      "cell_type": "code",
      "source": [
        "df.head()"
      ],
      "metadata": {
        "colab": {
          "base_uri": "https://localhost:8080/",
          "height": 560
        },
        "id": "fPJVQbLYG-zT",
        "outputId": "3112cb7c-34c6-4384-e4f5-9f6694b5196b"
      },
      "id": "fPJVQbLYG-zT",
      "execution_count": 92,
      "outputs": [
        {
          "output_type": "execute_result",
          "data": {
            "text/plain": [
              "      Month   Age Occupation  Annual_Income  Monthly_Inhand_Salary  \\\n",
              "0   January  23.0  Scientist       19114.12            1824.843333   \n",
              "1  February  23.0  Scientist       19114.12                    NaN   \n",
              "2     March   NaN  Scientist       19114.12                    NaN   \n",
              "3     April  23.0  Scientist       19114.12                    NaN   \n",
              "4       May  23.0  Scientist       19114.12            1824.843333   \n",
              "\n",
              "   Num_Bank_Accounts  Num_Credit_Card  Interest_Rate  Num_of_Loan  \\\n",
              "0                3.0              4.0            3.0          4.0   \n",
              "1                3.0              4.0            3.0          4.0   \n",
              "2                3.0              4.0            3.0          4.0   \n",
              "3                3.0              4.0            3.0          4.0   \n",
              "4                3.0              4.0            3.0          4.0   \n",
              "\n",
              "                                        Type_of_Loan  ...  Credit_Mix  \\\n",
              "0  Auto Loan, Credit-Builder Loan, Personal Loan,...  ...        None   \n",
              "1  Auto Loan, Credit-Builder Loan, Personal Loan,...  ...        Good   \n",
              "2  Auto Loan, Credit-Builder Loan, Personal Loan,...  ...        Good   \n",
              "3  Auto Loan, Credit-Builder Loan, Personal Loan,...  ...        Good   \n",
              "4  Auto Loan, Credit-Builder Loan, Personal Loan,...  ...        Good   \n",
              "\n",
              "   Outstanding_Debt Credit_Utilization_Ratio  Credit_History_Age  \\\n",
              "0            809.98                26.822620                 265   \n",
              "1            809.98                31.944960                   0   \n",
              "2            809.98                28.609352                 267   \n",
              "3            809.98                31.377862                 268   \n",
              "4            809.98                24.797347                 269   \n",
              "\n",
              "  Payment_of_Min_Amount  Total_EMI_per_month  Amount_invested_monthly  \\\n",
              "0                    No            49.574949                80.415295   \n",
              "1                    No            49.574949               118.280222   \n",
              "2                    No            49.574949                81.699521   \n",
              "3                    No            49.574949               199.458074   \n",
              "4                    No            49.574949                41.420153   \n",
              "\n",
              "                  Payment_Behaviour Monthly_Balance  Credit_Score  \n",
              "0   High_spent_Small_value_payments      312.494089             2  \n",
              "1    Low_spent_Large_value_payments      284.629162             2  \n",
              "2   Low_spent_Medium_value_payments      331.209863             2  \n",
              "3    Low_spent_Small_value_payments      223.451310             2  \n",
              "4  High_spent_Medium_value_payments      341.489231             2  \n",
              "\n",
              "[5 rows x 24 columns]"
            ],
            "text/html": [
              "\n",
              "  <div id=\"df-3efd859d-0dd6-45fb-9229-b8eaed791f9c\">\n",
              "    <div class=\"colab-df-container\">\n",
              "      <div>\n",
              "<style scoped>\n",
              "    .dataframe tbody tr th:only-of-type {\n",
              "        vertical-align: middle;\n",
              "    }\n",
              "\n",
              "    .dataframe tbody tr th {\n",
              "        vertical-align: top;\n",
              "    }\n",
              "\n",
              "    .dataframe thead th {\n",
              "        text-align: right;\n",
              "    }\n",
              "</style>\n",
              "<table border=\"1\" class=\"dataframe\">\n",
              "  <thead>\n",
              "    <tr style=\"text-align: right;\">\n",
              "      <th></th>\n",
              "      <th>Month</th>\n",
              "      <th>Age</th>\n",
              "      <th>Occupation</th>\n",
              "      <th>Annual_Income</th>\n",
              "      <th>Monthly_Inhand_Salary</th>\n",
              "      <th>Num_Bank_Accounts</th>\n",
              "      <th>Num_Credit_Card</th>\n",
              "      <th>Interest_Rate</th>\n",
              "      <th>Num_of_Loan</th>\n",
              "      <th>Type_of_Loan</th>\n",
              "      <th>...</th>\n",
              "      <th>Credit_Mix</th>\n",
              "      <th>Outstanding_Debt</th>\n",
              "      <th>Credit_Utilization_Ratio</th>\n",
              "      <th>Credit_History_Age</th>\n",
              "      <th>Payment_of_Min_Amount</th>\n",
              "      <th>Total_EMI_per_month</th>\n",
              "      <th>Amount_invested_monthly</th>\n",
              "      <th>Payment_Behaviour</th>\n",
              "      <th>Monthly_Balance</th>\n",
              "      <th>Credit_Score</th>\n",
              "    </tr>\n",
              "  </thead>\n",
              "  <tbody>\n",
              "    <tr>\n",
              "      <th>0</th>\n",
              "      <td>January</td>\n",
              "      <td>23.0</td>\n",
              "      <td>Scientist</td>\n",
              "      <td>19114.12</td>\n",
              "      <td>1824.843333</td>\n",
              "      <td>3.0</td>\n",
              "      <td>4.0</td>\n",
              "      <td>3.0</td>\n",
              "      <td>4.0</td>\n",
              "      <td>Auto Loan, Credit-Builder Loan, Personal Loan,...</td>\n",
              "      <td>...</td>\n",
              "      <td>None</td>\n",
              "      <td>809.98</td>\n",
              "      <td>26.822620</td>\n",
              "      <td>265</td>\n",
              "      <td>No</td>\n",
              "      <td>49.574949</td>\n",
              "      <td>80.415295</td>\n",
              "      <td>High_spent_Small_value_payments</td>\n",
              "      <td>312.494089</td>\n",
              "      <td>2</td>\n",
              "    </tr>\n",
              "    <tr>\n",
              "      <th>1</th>\n",
              "      <td>February</td>\n",
              "      <td>23.0</td>\n",
              "      <td>Scientist</td>\n",
              "      <td>19114.12</td>\n",
              "      <td>NaN</td>\n",
              "      <td>3.0</td>\n",
              "      <td>4.0</td>\n",
              "      <td>3.0</td>\n",
              "      <td>4.0</td>\n",
              "      <td>Auto Loan, Credit-Builder Loan, Personal Loan,...</td>\n",
              "      <td>...</td>\n",
              "      <td>Good</td>\n",
              "      <td>809.98</td>\n",
              "      <td>31.944960</td>\n",
              "      <td>0</td>\n",
              "      <td>No</td>\n",
              "      <td>49.574949</td>\n",
              "      <td>118.280222</td>\n",
              "      <td>Low_spent_Large_value_payments</td>\n",
              "      <td>284.629162</td>\n",
              "      <td>2</td>\n",
              "    </tr>\n",
              "    <tr>\n",
              "      <th>2</th>\n",
              "      <td>March</td>\n",
              "      <td>NaN</td>\n",
              "      <td>Scientist</td>\n",
              "      <td>19114.12</td>\n",
              "      <td>NaN</td>\n",
              "      <td>3.0</td>\n",
              "      <td>4.0</td>\n",
              "      <td>3.0</td>\n",
              "      <td>4.0</td>\n",
              "      <td>Auto Loan, Credit-Builder Loan, Personal Loan,...</td>\n",
              "      <td>...</td>\n",
              "      <td>Good</td>\n",
              "      <td>809.98</td>\n",
              "      <td>28.609352</td>\n",
              "      <td>267</td>\n",
              "      <td>No</td>\n",
              "      <td>49.574949</td>\n",
              "      <td>81.699521</td>\n",
              "      <td>Low_spent_Medium_value_payments</td>\n",
              "      <td>331.209863</td>\n",
              "      <td>2</td>\n",
              "    </tr>\n",
              "    <tr>\n",
              "      <th>3</th>\n",
              "      <td>April</td>\n",
              "      <td>23.0</td>\n",
              "      <td>Scientist</td>\n",
              "      <td>19114.12</td>\n",
              "      <td>NaN</td>\n",
              "      <td>3.0</td>\n",
              "      <td>4.0</td>\n",
              "      <td>3.0</td>\n",
              "      <td>4.0</td>\n",
              "      <td>Auto Loan, Credit-Builder Loan, Personal Loan,...</td>\n",
              "      <td>...</td>\n",
              "      <td>Good</td>\n",
              "      <td>809.98</td>\n",
              "      <td>31.377862</td>\n",
              "      <td>268</td>\n",
              "      <td>No</td>\n",
              "      <td>49.574949</td>\n",
              "      <td>199.458074</td>\n",
              "      <td>Low_spent_Small_value_payments</td>\n",
              "      <td>223.451310</td>\n",
              "      <td>2</td>\n",
              "    </tr>\n",
              "    <tr>\n",
              "      <th>4</th>\n",
              "      <td>May</td>\n",
              "      <td>23.0</td>\n",
              "      <td>Scientist</td>\n",
              "      <td>19114.12</td>\n",
              "      <td>1824.843333</td>\n",
              "      <td>3.0</td>\n",
              "      <td>4.0</td>\n",
              "      <td>3.0</td>\n",
              "      <td>4.0</td>\n",
              "      <td>Auto Loan, Credit-Builder Loan, Personal Loan,...</td>\n",
              "      <td>...</td>\n",
              "      <td>Good</td>\n",
              "      <td>809.98</td>\n",
              "      <td>24.797347</td>\n",
              "      <td>269</td>\n",
              "      <td>No</td>\n",
              "      <td>49.574949</td>\n",
              "      <td>41.420153</td>\n",
              "      <td>High_spent_Medium_value_payments</td>\n",
              "      <td>341.489231</td>\n",
              "      <td>2</td>\n",
              "    </tr>\n",
              "  </tbody>\n",
              "</table>\n",
              "<p>5 rows × 24 columns</p>\n",
              "</div>\n",
              "      <button class=\"colab-df-convert\" onclick=\"convertToInteractive('df-3efd859d-0dd6-45fb-9229-b8eaed791f9c')\"\n",
              "              title=\"Convert this dataframe to an interactive table.\"\n",
              "              style=\"display:none;\">\n",
              "        \n",
              "  <svg xmlns=\"http://www.w3.org/2000/svg\" height=\"24px\"viewBox=\"0 0 24 24\"\n",
              "       width=\"24px\">\n",
              "    <path d=\"M0 0h24v24H0V0z\" fill=\"none\"/>\n",
              "    <path d=\"M18.56 5.44l.94 2.06.94-2.06 2.06-.94-2.06-.94-.94-2.06-.94 2.06-2.06.94zm-11 1L8.5 8.5l.94-2.06 2.06-.94-2.06-.94L8.5 2.5l-.94 2.06-2.06.94zm10 10l.94 2.06.94-2.06 2.06-.94-2.06-.94-.94-2.06-.94 2.06-2.06.94z\"/><path d=\"M17.41 7.96l-1.37-1.37c-.4-.4-.92-.59-1.43-.59-.52 0-1.04.2-1.43.59L10.3 9.45l-7.72 7.72c-.78.78-.78 2.05 0 2.83L4 21.41c.39.39.9.59 1.41.59.51 0 1.02-.2 1.41-.59l7.78-7.78 2.81-2.81c.8-.78.8-2.07 0-2.86zM5.41 20L4 18.59l7.72-7.72 1.47 1.35L5.41 20z\"/>\n",
              "  </svg>\n",
              "      </button>\n",
              "      \n",
              "  <style>\n",
              "    .colab-df-container {\n",
              "      display:flex;\n",
              "      flex-wrap:wrap;\n",
              "      gap: 12px;\n",
              "    }\n",
              "\n",
              "    .colab-df-convert {\n",
              "      background-color: #E8F0FE;\n",
              "      border: none;\n",
              "      border-radius: 50%;\n",
              "      cursor: pointer;\n",
              "      display: none;\n",
              "      fill: #1967D2;\n",
              "      height: 32px;\n",
              "      padding: 0 0 0 0;\n",
              "      width: 32px;\n",
              "    }\n",
              "\n",
              "    .colab-df-convert:hover {\n",
              "      background-color: #E2EBFA;\n",
              "      box-shadow: 0px 1px 2px rgba(60, 64, 67, 0.3), 0px 1px 3px 1px rgba(60, 64, 67, 0.15);\n",
              "      fill: #174EA6;\n",
              "    }\n",
              "\n",
              "    [theme=dark] .colab-df-convert {\n",
              "      background-color: #3B4455;\n",
              "      fill: #D2E3FC;\n",
              "    }\n",
              "\n",
              "    [theme=dark] .colab-df-convert:hover {\n",
              "      background-color: #434B5C;\n",
              "      box-shadow: 0px 1px 3px 1px rgba(0, 0, 0, 0.15);\n",
              "      filter: drop-shadow(0px 1px 2px rgba(0, 0, 0, 0.3));\n",
              "      fill: #FFFFFF;\n",
              "    }\n",
              "  </style>\n",
              "\n",
              "      <script>\n",
              "        const buttonEl =\n",
              "          document.querySelector('#df-3efd859d-0dd6-45fb-9229-b8eaed791f9c button.colab-df-convert');\n",
              "        buttonEl.style.display =\n",
              "          google.colab.kernel.accessAllowed ? 'block' : 'none';\n",
              "\n",
              "        async function convertToInteractive(key) {\n",
              "          const element = document.querySelector('#df-3efd859d-0dd6-45fb-9229-b8eaed791f9c');\n",
              "          const dataTable =\n",
              "            await google.colab.kernel.invokeFunction('convertToInteractive',\n",
              "                                                     [key], {});\n",
              "          if (!dataTable) return;\n",
              "\n",
              "          const docLinkHtml = 'Like what you see? Visit the ' +\n",
              "            '<a target=\"_blank\" href=https://colab.research.google.com/notebooks/data_table.ipynb>data table notebook</a>'\n",
              "            + ' to learn more about interactive tables.';\n",
              "          element.innerHTML = '';\n",
              "          dataTable['output_type'] = 'display_data';\n",
              "          await google.colab.output.renderOutput(dataTable, element);\n",
              "          const docLink = document.createElement('div');\n",
              "          docLink.innerHTML = docLinkHtml;\n",
              "          element.appendChild(docLink);\n",
              "        }\n",
              "      </script>\n",
              "    </div>\n",
              "  </div>\n",
              "  "
            ]
          },
          "metadata": {},
          "execution_count": 92
        }
      ]
    },
    {
      "cell_type": "markdown",
      "source": [],
      "metadata": {
        "id": "d-7VeNxqHqbb"
      },
      "id": "d-7VeNxqHqbb"
    },
    {
      "cell_type": "code",
      "source": [
        "df.dtypes"
      ],
      "metadata": {
        "colab": {
          "base_uri": "https://localhost:8080/"
        },
        "id": "Dchnqm6THw_T",
        "outputId": "cb6ebfa6-b029-4562-95c5-401ac22795db"
      },
      "id": "Dchnqm6THw_T",
      "execution_count": 98,
      "outputs": [
        {
          "output_type": "execute_result",
          "data": {
            "text/plain": [
              "Month                        object\n",
              "Age                         float64\n",
              "Occupation                   object\n",
              "Annual_Income               float64\n",
              "Monthly_Inhand_Salary       float64\n",
              "Num_Bank_Accounts           float64\n",
              "Num_Credit_Card             float64\n",
              "Interest_Rate               float64\n",
              "Num_of_Loan                 float64\n",
              "Type_of_Loan                 object\n",
              "Delay_from_due_date           int64\n",
              "Num_of_Delayed_Payment      float64\n",
              "Changed_Credit_Limit         object\n",
              "Num_Credit_Inquiries        float64\n",
              "Credit_Mix                   object\n",
              "Outstanding_Debt            float64\n",
              "Credit_Utilization_Ratio    float64\n",
              "Credit_History_Age            int64\n",
              "Payment_of_Min_Amount        object\n",
              "Total_EMI_per_month         float64\n",
              "Amount_invested_monthly     float64\n",
              "Payment_Behaviour            object\n",
              "Monthly_Balance             float64\n",
              "Credit_Score                  int64\n",
              "dtype: object"
            ]
          },
          "metadata": {},
          "execution_count": 98
        }
      ]
    },
    {
      "cell_type": "code",
      "source": [
        "df.isna().sum()\n"
      ],
      "metadata": {
        "colab": {
          "base_uri": "https://localhost:8080/"
        },
        "id": "0MKr4b3mKef3",
        "outputId": "8a9f05b0-bf18-40ab-ff28-18a640a4b3ca"
      },
      "id": "0MKr4b3mKef3",
      "execution_count": 104,
      "outputs": [
        {
          "output_type": "execute_result",
          "data": {
            "text/plain": [
              "Month                           0\n",
              "Age                          8482\n",
              "Occupation                      0\n",
              "Annual_Income                   0\n",
              "Monthly_Inhand_Salary       15002\n",
              "Num_Bank_Accounts            1246\n",
              "Num_Credit_Card              2130\n",
              "Interest_Rate                2012\n",
              "Num_of_Loan                  4330\n",
              "Type_of_Loan                11408\n",
              "Delay_from_due_date             0\n",
              "Num_of_Delayed_Payment       7002\n",
              "Changed_Credit_Limit         2091\n",
              "Num_Credit_Inquiries         1965\n",
              "Credit_Mix                  20195\n",
              "Outstanding_Debt                0\n",
              "Credit_Utilization_Ratio        0\n",
              "Credit_History_Age              0\n",
              "Payment_of_Min_Amount           0\n",
              "Total_EMI_per_month             0\n",
              "Amount_invested_monthly      4479\n",
              "Payment_Behaviour               0\n",
              "Monthly_Balance              1209\n",
              "Credit_Score                    0\n",
              "dtype: int64"
            ]
          },
          "metadata": {},
          "execution_count": 104
        }
      ]
    },
    {
      "cell_type": "code",
      "source": [
        "df.dropna(inplace=True)\n"
      ],
      "metadata": {
        "id": "44L7ygH6KigB"
      },
      "id": "44L7ygH6KigB",
      "execution_count": 106,
      "outputs": []
    },
    {
      "cell_type": "code",
      "source": [
        "df.isna().sum()\n"
      ],
      "metadata": {
        "colab": {
          "base_uri": "https://localhost:8080/"
        },
        "id": "HWCTFClcKwGm",
        "outputId": "1c53cc87-9b29-4be5-9e19-a0ff105ae8e2"
      },
      "id": "HWCTFClcKwGm",
      "execution_count": 107,
      "outputs": [
        {
          "output_type": "execute_result",
          "data": {
            "text/plain": [
              "Month                       0\n",
              "Age                         0\n",
              "Occupation                  0\n",
              "Annual_Income               0\n",
              "Monthly_Inhand_Salary       0\n",
              "Num_Bank_Accounts           0\n",
              "Num_Credit_Card             0\n",
              "Interest_Rate               0\n",
              "Num_of_Loan                 0\n",
              "Type_of_Loan                0\n",
              "Delay_from_due_date         0\n",
              "Num_of_Delayed_Payment      0\n",
              "Changed_Credit_Limit        0\n",
              "Num_Credit_Inquiries        0\n",
              "Credit_Mix                  0\n",
              "Outstanding_Debt            0\n",
              "Credit_Utilization_Ratio    0\n",
              "Credit_History_Age          0\n",
              "Payment_of_Min_Amount       0\n",
              "Total_EMI_per_month         0\n",
              "Amount_invested_monthly     0\n",
              "Payment_Behaviour           0\n",
              "Monthly_Balance             0\n",
              "Credit_Score                0\n",
              "dtype: int64"
            ]
          },
          "metadata": {},
          "execution_count": 107
        }
      ]
    },
    {
      "cell_type": "code",
      "source": [
        "# Recoding Credit_Mix to :\n",
        "# Poor - 0 : Standard - 1 : Good - 2\n",
        "\n",
        "scale_mapper = {\"Bad\":0, \"Standard\":1, \"Good\":2}\n",
        "df[\"Credit_Mix\"] = df[\"Credit_Mix\"].replace(scale_mapper)"
      ],
      "metadata": {
        "id": "XBS9bEfhLXkB"
      },
      "id": "XBS9bEfhLXkB",
      "execution_count": 126,
      "outputs": []
    },
    {
      "cell_type": "code",
      "source": [
        "df.isnull()"
      ],
      "metadata": {
        "colab": {
          "base_uri": "https://localhost:8080/",
          "height": 488
        },
        "id": "vJt8roiAOjfF",
        "outputId": "c33e56a0-68ab-4ad0-8a23-88dfd14bf7b2"
      },
      "id": "vJt8roiAOjfF",
      "execution_count": 141,
      "outputs": [
        {
          "output_type": "execute_result",
          "data": {
            "text/plain": [
              "       Month    Age  Occupation  Annual_Income  Monthly_Inhand_Salary  \\\n",
              "6      False  False       False          False                  False   \n",
              "7      False  False       False          False                  False   \n",
              "8      False  False       False          False                  False   \n",
              "9      False  False       False          False                  False   \n",
              "12     False  False       False          False                  False   \n",
              "...      ...    ...         ...            ...                    ...   \n",
              "99986  False  False       False          False                  False   \n",
              "99989  False  False       False          False                  False   \n",
              "99990  False  False       False          False                  False   \n",
              "99991  False  False       False          False                  False   \n",
              "99999  False  False       False          False                  False   \n",
              "\n",
              "       Num_Bank_Accounts  Num_Credit_Card  Interest_Rate  Num_of_Loan  \\\n",
              "6                  False            False          False        False   \n",
              "7                  False            False          False        False   \n",
              "8                  False            False          False        False   \n",
              "9                  False            False          False        False   \n",
              "12                 False            False          False        False   \n",
              "...                  ...              ...            ...          ...   \n",
              "99986              False            False          False        False   \n",
              "99989              False            False          False        False   \n",
              "99990              False            False          False        False   \n",
              "99991              False            False          False        False   \n",
              "99999              False            False          False        False   \n",
              "\n",
              "       Type_of_Loan  ...  Credit_Mix  Outstanding_Debt  \\\n",
              "6             False  ...       False             False   \n",
              "7             False  ...       False             False   \n",
              "8             False  ...       False             False   \n",
              "9             False  ...       False             False   \n",
              "12            False  ...       False             False   \n",
              "...             ...  ...         ...               ...   \n",
              "99986         False  ...       False             False   \n",
              "99989         False  ...       False             False   \n",
              "99990         False  ...       False             False   \n",
              "99991         False  ...       False             False   \n",
              "99999         False  ...       False             False   \n",
              "\n",
              "       Credit_Utilization_Ratio  Credit_History_Age  Payment_of_Min_Amount  \\\n",
              "6                         False               False                  False   \n",
              "7                         False               False                  False   \n",
              "8                         False               False                  False   \n",
              "9                         False               False                  False   \n",
              "12                        False               False                  False   \n",
              "...                         ...                 ...                    ...   \n",
              "99986                     False               False                  False   \n",
              "99989                     False               False                  False   \n",
              "99990                     False               False                  False   \n",
              "99991                     False               False                  False   \n",
              "99999                     False               False                  False   \n",
              "\n",
              "       Total_EMI_per_month  Amount_invested_monthly  Payment_Behaviour  \\\n",
              "6                    False                    False              False   \n",
              "7                    False                    False              False   \n",
              "8                    False                    False              False   \n",
              "9                    False                    False              False   \n",
              "12                   False                    False              False   \n",
              "...                    ...                      ...                ...   \n",
              "99986                False                    False              False   \n",
              "99989                False                    False              False   \n",
              "99990                False                    False              False   \n",
              "99991                False                    False              False   \n",
              "99999                False                    False              False   \n",
              "\n",
              "       Monthly_Balance  Credit_Score  \n",
              "6                False         False  \n",
              "7                False         False  \n",
              "8                False         False  \n",
              "9                False         False  \n",
              "12               False         False  \n",
              "...                ...           ...  \n",
              "99986            False         False  \n",
              "99989            False         False  \n",
              "99990            False         False  \n",
              "99991            False         False  \n",
              "99999            False         False  \n",
              "\n",
              "[41647 rows x 24 columns]"
            ],
            "text/html": [
              "\n",
              "  <div id=\"df-49c93c48-df57-4f9e-b267-fa547025581c\">\n",
              "    <div class=\"colab-df-container\">\n",
              "      <div>\n",
              "<style scoped>\n",
              "    .dataframe tbody tr th:only-of-type {\n",
              "        vertical-align: middle;\n",
              "    }\n",
              "\n",
              "    .dataframe tbody tr th {\n",
              "        vertical-align: top;\n",
              "    }\n",
              "\n",
              "    .dataframe thead th {\n",
              "        text-align: right;\n",
              "    }\n",
              "</style>\n",
              "<table border=\"1\" class=\"dataframe\">\n",
              "  <thead>\n",
              "    <tr style=\"text-align: right;\">\n",
              "      <th></th>\n",
              "      <th>Month</th>\n",
              "      <th>Age</th>\n",
              "      <th>Occupation</th>\n",
              "      <th>Annual_Income</th>\n",
              "      <th>Monthly_Inhand_Salary</th>\n",
              "      <th>Num_Bank_Accounts</th>\n",
              "      <th>Num_Credit_Card</th>\n",
              "      <th>Interest_Rate</th>\n",
              "      <th>Num_of_Loan</th>\n",
              "      <th>Type_of_Loan</th>\n",
              "      <th>...</th>\n",
              "      <th>Credit_Mix</th>\n",
              "      <th>Outstanding_Debt</th>\n",
              "      <th>Credit_Utilization_Ratio</th>\n",
              "      <th>Credit_History_Age</th>\n",
              "      <th>Payment_of_Min_Amount</th>\n",
              "      <th>Total_EMI_per_month</th>\n",
              "      <th>Amount_invested_monthly</th>\n",
              "      <th>Payment_Behaviour</th>\n",
              "      <th>Monthly_Balance</th>\n",
              "      <th>Credit_Score</th>\n",
              "    </tr>\n",
              "  </thead>\n",
              "  <tbody>\n",
              "    <tr>\n",
              "      <th>6</th>\n",
              "      <td>False</td>\n",
              "      <td>False</td>\n",
              "      <td>False</td>\n",
              "      <td>False</td>\n",
              "      <td>False</td>\n",
              "      <td>False</td>\n",
              "      <td>False</td>\n",
              "      <td>False</td>\n",
              "      <td>False</td>\n",
              "      <td>False</td>\n",
              "      <td>...</td>\n",
              "      <td>False</td>\n",
              "      <td>False</td>\n",
              "      <td>False</td>\n",
              "      <td>False</td>\n",
              "      <td>False</td>\n",
              "      <td>False</td>\n",
              "      <td>False</td>\n",
              "      <td>False</td>\n",
              "      <td>False</td>\n",
              "      <td>False</td>\n",
              "    </tr>\n",
              "    <tr>\n",
              "      <th>7</th>\n",
              "      <td>False</td>\n",
              "      <td>False</td>\n",
              "      <td>False</td>\n",
              "      <td>False</td>\n",
              "      <td>False</td>\n",
              "      <td>False</td>\n",
              "      <td>False</td>\n",
              "      <td>False</td>\n",
              "      <td>False</td>\n",
              "      <td>False</td>\n",
              "      <td>...</td>\n",
              "      <td>False</td>\n",
              "      <td>False</td>\n",
              "      <td>False</td>\n",
              "      <td>False</td>\n",
              "      <td>False</td>\n",
              "      <td>False</td>\n",
              "      <td>False</td>\n",
              "      <td>False</td>\n",
              "      <td>False</td>\n",
              "      <td>False</td>\n",
              "    </tr>\n",
              "    <tr>\n",
              "      <th>8</th>\n",
              "      <td>False</td>\n",
              "      <td>False</td>\n",
              "      <td>False</td>\n",
              "      <td>False</td>\n",
              "      <td>False</td>\n",
              "      <td>False</td>\n",
              "      <td>False</td>\n",
              "      <td>False</td>\n",
              "      <td>False</td>\n",
              "      <td>False</td>\n",
              "      <td>...</td>\n",
              "      <td>False</td>\n",
              "      <td>False</td>\n",
              "      <td>False</td>\n",
              "      <td>False</td>\n",
              "      <td>False</td>\n",
              "      <td>False</td>\n",
              "      <td>False</td>\n",
              "      <td>False</td>\n",
              "      <td>False</td>\n",
              "      <td>False</td>\n",
              "    </tr>\n",
              "    <tr>\n",
              "      <th>9</th>\n",
              "      <td>False</td>\n",
              "      <td>False</td>\n",
              "      <td>False</td>\n",
              "      <td>False</td>\n",
              "      <td>False</td>\n",
              "      <td>False</td>\n",
              "      <td>False</td>\n",
              "      <td>False</td>\n",
              "      <td>False</td>\n",
              "      <td>False</td>\n",
              "      <td>...</td>\n",
              "      <td>False</td>\n",
              "      <td>False</td>\n",
              "      <td>False</td>\n",
              "      <td>False</td>\n",
              "      <td>False</td>\n",
              "      <td>False</td>\n",
              "      <td>False</td>\n",
              "      <td>False</td>\n",
              "      <td>False</td>\n",
              "      <td>False</td>\n",
              "    </tr>\n",
              "    <tr>\n",
              "      <th>12</th>\n",
              "      <td>False</td>\n",
              "      <td>False</td>\n",
              "      <td>False</td>\n",
              "      <td>False</td>\n",
              "      <td>False</td>\n",
              "      <td>False</td>\n",
              "      <td>False</td>\n",
              "      <td>False</td>\n",
              "      <td>False</td>\n",
              "      <td>False</td>\n",
              "      <td>...</td>\n",
              "      <td>False</td>\n",
              "      <td>False</td>\n",
              "      <td>False</td>\n",
              "      <td>False</td>\n",
              "      <td>False</td>\n",
              "      <td>False</td>\n",
              "      <td>False</td>\n",
              "      <td>False</td>\n",
              "      <td>False</td>\n",
              "      <td>False</td>\n",
              "    </tr>\n",
              "    <tr>\n",
              "      <th>...</th>\n",
              "      <td>...</td>\n",
              "      <td>...</td>\n",
              "      <td>...</td>\n",
              "      <td>...</td>\n",
              "      <td>...</td>\n",
              "      <td>...</td>\n",
              "      <td>...</td>\n",
              "      <td>...</td>\n",
              "      <td>...</td>\n",
              "      <td>...</td>\n",
              "      <td>...</td>\n",
              "      <td>...</td>\n",
              "      <td>...</td>\n",
              "      <td>...</td>\n",
              "      <td>...</td>\n",
              "      <td>...</td>\n",
              "      <td>...</td>\n",
              "      <td>...</td>\n",
              "      <td>...</td>\n",
              "      <td>...</td>\n",
              "      <td>...</td>\n",
              "    </tr>\n",
              "    <tr>\n",
              "      <th>99986</th>\n",
              "      <td>False</td>\n",
              "      <td>False</td>\n",
              "      <td>False</td>\n",
              "      <td>False</td>\n",
              "      <td>False</td>\n",
              "      <td>False</td>\n",
              "      <td>False</td>\n",
              "      <td>False</td>\n",
              "      <td>False</td>\n",
              "      <td>False</td>\n",
              "      <td>...</td>\n",
              "      <td>False</td>\n",
              "      <td>False</td>\n",
              "      <td>False</td>\n",
              "      <td>False</td>\n",
              "      <td>False</td>\n",
              "      <td>False</td>\n",
              "      <td>False</td>\n",
              "      <td>False</td>\n",
              "      <td>False</td>\n",
              "      <td>False</td>\n",
              "    </tr>\n",
              "    <tr>\n",
              "      <th>99989</th>\n",
              "      <td>False</td>\n",
              "      <td>False</td>\n",
              "      <td>False</td>\n",
              "      <td>False</td>\n",
              "      <td>False</td>\n",
              "      <td>False</td>\n",
              "      <td>False</td>\n",
              "      <td>False</td>\n",
              "      <td>False</td>\n",
              "      <td>False</td>\n",
              "      <td>...</td>\n",
              "      <td>False</td>\n",
              "      <td>False</td>\n",
              "      <td>False</td>\n",
              "      <td>False</td>\n",
              "      <td>False</td>\n",
              "      <td>False</td>\n",
              "      <td>False</td>\n",
              "      <td>False</td>\n",
              "      <td>False</td>\n",
              "      <td>False</td>\n",
              "    </tr>\n",
              "    <tr>\n",
              "      <th>99990</th>\n",
              "      <td>False</td>\n",
              "      <td>False</td>\n",
              "      <td>False</td>\n",
              "      <td>False</td>\n",
              "      <td>False</td>\n",
              "      <td>False</td>\n",
              "      <td>False</td>\n",
              "      <td>False</td>\n",
              "      <td>False</td>\n",
              "      <td>False</td>\n",
              "      <td>...</td>\n",
              "      <td>False</td>\n",
              "      <td>False</td>\n",
              "      <td>False</td>\n",
              "      <td>False</td>\n",
              "      <td>False</td>\n",
              "      <td>False</td>\n",
              "      <td>False</td>\n",
              "      <td>False</td>\n",
              "      <td>False</td>\n",
              "      <td>False</td>\n",
              "    </tr>\n",
              "    <tr>\n",
              "      <th>99991</th>\n",
              "      <td>False</td>\n",
              "      <td>False</td>\n",
              "      <td>False</td>\n",
              "      <td>False</td>\n",
              "      <td>False</td>\n",
              "      <td>False</td>\n",
              "      <td>False</td>\n",
              "      <td>False</td>\n",
              "      <td>False</td>\n",
              "      <td>False</td>\n",
              "      <td>...</td>\n",
              "      <td>False</td>\n",
              "      <td>False</td>\n",
              "      <td>False</td>\n",
              "      <td>False</td>\n",
              "      <td>False</td>\n",
              "      <td>False</td>\n",
              "      <td>False</td>\n",
              "      <td>False</td>\n",
              "      <td>False</td>\n",
              "      <td>False</td>\n",
              "    </tr>\n",
              "    <tr>\n",
              "      <th>99999</th>\n",
              "      <td>False</td>\n",
              "      <td>False</td>\n",
              "      <td>False</td>\n",
              "      <td>False</td>\n",
              "      <td>False</td>\n",
              "      <td>False</td>\n",
              "      <td>False</td>\n",
              "      <td>False</td>\n",
              "      <td>False</td>\n",
              "      <td>False</td>\n",
              "      <td>...</td>\n",
              "      <td>False</td>\n",
              "      <td>False</td>\n",
              "      <td>False</td>\n",
              "      <td>False</td>\n",
              "      <td>False</td>\n",
              "      <td>False</td>\n",
              "      <td>False</td>\n",
              "      <td>False</td>\n",
              "      <td>False</td>\n",
              "      <td>False</td>\n",
              "    </tr>\n",
              "  </tbody>\n",
              "</table>\n",
              "<p>41647 rows × 24 columns</p>\n",
              "</div>\n",
              "      <button class=\"colab-df-convert\" onclick=\"convertToInteractive('df-49c93c48-df57-4f9e-b267-fa547025581c')\"\n",
              "              title=\"Convert this dataframe to an interactive table.\"\n",
              "              style=\"display:none;\">\n",
              "        \n",
              "  <svg xmlns=\"http://www.w3.org/2000/svg\" height=\"24px\"viewBox=\"0 0 24 24\"\n",
              "       width=\"24px\">\n",
              "    <path d=\"M0 0h24v24H0V0z\" fill=\"none\"/>\n",
              "    <path d=\"M18.56 5.44l.94 2.06.94-2.06 2.06-.94-2.06-.94-.94-2.06-.94 2.06-2.06.94zm-11 1L8.5 8.5l.94-2.06 2.06-.94-2.06-.94L8.5 2.5l-.94 2.06-2.06.94zm10 10l.94 2.06.94-2.06 2.06-.94-2.06-.94-.94-2.06-.94 2.06-2.06.94z\"/><path d=\"M17.41 7.96l-1.37-1.37c-.4-.4-.92-.59-1.43-.59-.52 0-1.04.2-1.43.59L10.3 9.45l-7.72 7.72c-.78.78-.78 2.05 0 2.83L4 21.41c.39.39.9.59 1.41.59.51 0 1.02-.2 1.41-.59l7.78-7.78 2.81-2.81c.8-.78.8-2.07 0-2.86zM5.41 20L4 18.59l7.72-7.72 1.47 1.35L5.41 20z\"/>\n",
              "  </svg>\n",
              "      </button>\n",
              "      \n",
              "  <style>\n",
              "    .colab-df-container {\n",
              "      display:flex;\n",
              "      flex-wrap:wrap;\n",
              "      gap: 12px;\n",
              "    }\n",
              "\n",
              "    .colab-df-convert {\n",
              "      background-color: #E8F0FE;\n",
              "      border: none;\n",
              "      border-radius: 50%;\n",
              "      cursor: pointer;\n",
              "      display: none;\n",
              "      fill: #1967D2;\n",
              "      height: 32px;\n",
              "      padding: 0 0 0 0;\n",
              "      width: 32px;\n",
              "    }\n",
              "\n",
              "    .colab-df-convert:hover {\n",
              "      background-color: #E2EBFA;\n",
              "      box-shadow: 0px 1px 2px rgba(60, 64, 67, 0.3), 0px 1px 3px 1px rgba(60, 64, 67, 0.15);\n",
              "      fill: #174EA6;\n",
              "    }\n",
              "\n",
              "    [theme=dark] .colab-df-convert {\n",
              "      background-color: #3B4455;\n",
              "      fill: #D2E3FC;\n",
              "    }\n",
              "\n",
              "    [theme=dark] .colab-df-convert:hover {\n",
              "      background-color: #434B5C;\n",
              "      box-shadow: 0px 1px 3px 1px rgba(0, 0, 0, 0.15);\n",
              "      filter: drop-shadow(0px 1px 2px rgba(0, 0, 0, 0.3));\n",
              "      fill: #FFFFFF;\n",
              "    }\n",
              "  </style>\n",
              "\n",
              "      <script>\n",
              "        const buttonEl =\n",
              "          document.querySelector('#df-49c93c48-df57-4f9e-b267-fa547025581c button.colab-df-convert');\n",
              "        buttonEl.style.display =\n",
              "          google.colab.kernel.accessAllowed ? 'block' : 'none';\n",
              "\n",
              "        async function convertToInteractive(key) {\n",
              "          const element = document.querySelector('#df-49c93c48-df57-4f9e-b267-fa547025581c');\n",
              "          const dataTable =\n",
              "            await google.colab.kernel.invokeFunction('convertToInteractive',\n",
              "                                                     [key], {});\n",
              "          if (!dataTable) return;\n",
              "\n",
              "          const docLinkHtml = 'Like what you see? Visit the ' +\n",
              "            '<a target=\"_blank\" href=https://colab.research.google.com/notebooks/data_table.ipynb>data table notebook</a>'\n",
              "            + ' to learn more about interactive tables.';\n",
              "          element.innerHTML = '';\n",
              "          dataTable['output_type'] = 'display_data';\n",
              "          await google.colab.output.renderOutput(dataTable, element);\n",
              "          const docLink = document.createElement('div');\n",
              "          docLink.innerHTML = docLinkHtml;\n",
              "          element.appendChild(docLink);\n",
              "        }\n",
              "      </script>\n",
              "    </div>\n",
              "  </div>\n",
              "  "
            ]
          },
          "metadata": {},
          "execution_count": 141
        }
      ]
    },
    {
      "cell_type": "code",
      "source": [
        "# Split data into X & y\n",
        "X = df.drop(\"Credit_Score\", axis=1)\n",
        "y = df[\"Credit_Score\"]"
      ],
      "metadata": {
        "id": "-LzOBL9TGrbf"
      },
      "id": "-LzOBL9TGrbf",
      "execution_count": 143,
      "outputs": []
    },
    {
      "cell_type": "code",
      "source": [
        "from sklearn.pipeline import Pipeline\n",
        "from sklearn.impute import SimpleImputer # this will help us fill missing values\n",
        "from sklearn.preprocessing import OneHotEncoder # this will help us turn our categorical variables into numbers\n",
        "\n",
        "# Define categorical columns\n",
        "categorical_features = [\"Month\",\"Occupation\",\"Type_of_Loan\",\"Changed_Credit_Limit\",\"Payment_Behaviour\"]\n",
        "# Create categorical transformer (imputes missing values, then one hot encodes them)\n",
        "categorical_transformer = Pipeline(steps=[\n",
        "  ('imputer', SimpleImputer(strategy='constant', fill_value='missing')),\n",
        "  ('onehot', OneHotEncoder(handle_unknown='ignore'))                                         \n",
        "])\n",
        "\n",
        "# Define numeric features\n",
        "numeric_features = [\"Age\",\"Num_Bank_Accounts\",\"Monthly_Inhand_Salary\",\"Num_Credit_Card\",\"Interest_Rate\",\n",
        "                   \"Delay_from_due_date\",\"Num_Credit_Inquiries\",\"Credit_Utilization_Ratio\",\n",
        "                   \"Total_EMI_per_month\",\"Annual_Income\",\"Num_of_Loan\",\"Num_of_Delayed_Payment\",\"Credit_Mix\",\n",
        "                   \"Outstanding_Debt\",\"Credit_History_Age\",\n",
        "                   \"Amount_invested_monthly\",\"Monthly_Balance\"]\n",
        "# Create a transformer for filling all missing numeric values with the mean\n",
        "numeric_transformer = Pipeline(steps=[\n",
        "  ('imputer', SimpleImputer(strategy='mean'))  \n",
        "])"
      ],
      "metadata": {
        "id": "0SyYeyk-GsqD"
      },
      "id": "0SyYeyk-GsqD",
      "execution_count": 144,
      "outputs": []
    },
    {
      "cell_type": "code",
      "source": [
        "from sklearn.compose import ColumnTransformer\n",
        "\n",
        "# Create a column transformer which combines all of the other transformers \n",
        "# into one step\n",
        "preprocessor = ColumnTransformer(\n",
        "    transformers=[\n",
        "      # (name, transformer_to_use, features_to_use transform)\n",
        "      ('categorical', categorical_transformer, categorical_features),\n",
        "      ('numerical', numeric_transformer, numeric_features)\n",
        "])"
      ],
      "metadata": {
        "id": "cP0ZgdHtGvdv"
      },
      "id": "cP0ZgdHtGvdv",
      "execution_count": 145,
      "outputs": []
    },
    {
      "cell_type": "code",
      "source": [
        "# Create the preprocessing and modelling pipeline\n",
        "model = Pipeline(steps=[('preprocessor', preprocessor), # this will fill our missing data and make sure it's all numbers\n",
        "                        ('classifier', KNeighborsClassifier())]) # this will model our data"
      ],
      "metadata": {
        "id": "tVG-rdzfGxqH"
      },
      "id": "tVG-rdzfGxqH",
      "execution_count": 146,
      "outputs": []
    },
    {
      "cell_type": "code",
      "source": [
        "from sklearn.model_selection import train_test_split\n",
        "\n",
        "# Split data into train and teset sets\n",
        "np.random.seed(42)\n",
        "X_train, X_test, y_train, y_test = train_test_split(X, y, test_size=0.2)\n",
        "\n",
        "# Fit the model on the training data \n",
        "# (note: when fit() is called with a Pipeline(), fit_transform() is used for transformers)\n",
        "model.fit(X_train, y_train)"
      ],
      "metadata": {
        "colab": {
          "base_uri": "https://localhost:8080/"
        },
        "id": "0ZXJPhDJGzK7",
        "outputId": "1a258405-a6e5-4dfd-cfcd-d8d3f89db606"
      },
      "id": "0ZXJPhDJGzK7",
      "execution_count": 147,
      "outputs": [
        {
          "output_type": "execute_result",
          "data": {
            "text/plain": [
              "Pipeline(steps=[('preprocessor',\n",
              "                 ColumnTransformer(transformers=[('categorical',\n",
              "                                                  Pipeline(steps=[('imputer',\n",
              "                                                                   SimpleImputer(fill_value='missing',\n",
              "                                                                                 strategy='constant')),\n",
              "                                                                  ('onehot',\n",
              "                                                                   OneHotEncoder(handle_unknown='ignore'))]),\n",
              "                                                  ['Month', 'Occupation',\n",
              "                                                   'Type_of_Loan',\n",
              "                                                   'Changed_Credit_Limit',\n",
              "                                                   'Payment_Behaviour']),\n",
              "                                                 ('numerical',\n",
              "                                                  Pipeline(steps=[('imputer',\n",
              "                                                                   SimpleImputer...\n",
              "                                                  ['Age', 'Num_Bank_Accounts',\n",
              "                                                   'Monthly_Inhand_Salary',\n",
              "                                                   'Num_Credit_Card',\n",
              "                                                   'Interest_Rate',\n",
              "                                                   'Delay_from_due_date',\n",
              "                                                   'Num_Credit_Inquiries',\n",
              "                                                   'Credit_Utilization_Ratio',\n",
              "                                                   'Total_EMI_per_month',\n",
              "                                                   'Annual_Income',\n",
              "                                                   'Num_of_Loan',\n",
              "                                                   'Num_of_Delayed_Payment',\n",
              "                                                   'Credit_Mix',\n",
              "                                                   'Outstanding_Debt',\n",
              "                                                   'Credit_History_Age',\n",
              "                                                   'Amount_invested_monthly',\n",
              "                                                   'Monthly_Balance'])])),\n",
              "                ('classifier', KNeighborsClassifier())])"
            ]
          },
          "metadata": {},
          "execution_count": 147
        }
      ]
    },
    {
      "cell_type": "code",
      "source": [
        "# Score the model on the data \n",
        "# (note: when score() or  predict() is called with a Pipeline(), transform() is used for transformers)\n",
        "model.score(X_test, y_test)"
      ],
      "metadata": {
        "colab": {
          "base_uri": "https://localhost:8080/"
        },
        "id": "mUcP7wcfLAqb",
        "outputId": "0e737142-aaab-47ed-aa15-7a173376a956"
      },
      "id": "mUcP7wcfLAqb",
      "execution_count": 148,
      "outputs": [
        {
          "output_type": "execute_result",
          "data": {
            "text/plain": [
              "0.633733493397359"
            ]
          },
          "metadata": {},
          "execution_count": 148
        }
      ]
    },
    {
      "cell_type": "markdown",
      "source": [
        "## Comparing the metrics of different Scikit-Learn models\n"
      ],
      "metadata": {
        "id": "DF_DuyNkWpc7"
      },
      "id": "DF_DuyNkWpc7"
    },
    {
      "cell_type": "code",
      "source": [
        "from sklearn.ensemble import RandomForestClassifier\n",
        "from sklearn.metrics import accuracy_score, precision_score, recall_score, f1_score\n",
        "from sklearn.model_selection import train_test_split"
      ],
      "metadata": {
        "id": "lN9CqXRuWQ4b"
      },
      "id": "lN9CqXRuWQ4b",
      "execution_count": 149,
      "outputs": []
    },
    {
      "cell_type": "code",
      "source": [],
      "metadata": {
        "id": "v-zdotbUWuCd"
      },
      "id": "v-zdotbUWuCd",
      "execution_count": null,
      "outputs": []
    }
  ],
  "metadata": {
    "kernelspec": {
      "display_name": "Python 3 (ipykernel)",
      "language": "python",
      "name": "python3"
    },
    "language_info": {
      "codemirror_mode": {
        "name": "ipython",
        "version": 3
      },
      "file_extension": ".py",
      "mimetype": "text/x-python",
      "name": "python",
      "nbconvert_exporter": "python",
      "pygments_lexer": "ipython3",
      "version": "3.8.12"
    },
    "colab": {
      "provenance": [],
      "include_colab_link": true
    }
  },
  "nbformat": 4,
  "nbformat_minor": 5
}